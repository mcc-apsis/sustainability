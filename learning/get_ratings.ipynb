{
 "cells": [
  {
   "cell_type": "code",
   "execution_count": 11,
   "metadata": {
    "collapsed": false,
    "deletable": true,
    "editable": true
   },
   "outputs": [],
   "source": [
    "import django\n",
    "import sys, os\n",
    "\n",
    "sys.path.append('/home/galm/software/django/tmv/BasicBrowser/')\n",
    "os.environ.setdefault(\"DJANGO_SETTINGS_MODULE\", \"BasicBrowser.settings\")\n",
    "django.setup()\n",
    "\n",
    "from scoping.models import *\n",
    "\n",
    "import pandas as pd\n",
    "import numpy as np\n",
    "import datetime"
   ]
  },
  {
   "cell_type": "code",
   "execution_count": 12,
   "metadata": {
    "collapsed": true,
    "deletable": true,
    "editable": true
   },
   "outputs": [],
   "source": [
    "columns = [\n",
    "    'id',\n",
    "    'UT_id',\n",
    "    'authors',\n",
    "    'content',\n",
    "    'first_author',\n",
    "    'title',\n",
    "    'wosarticle__de',\n",
    "    'wosarticle__wc'\n",
    "]"
   ]
  },
  {
   "cell_type": "code",
   "execution_count": 13,
   "metadata": {
    "collapsed": false,
    "deletable": true,
    "editable": true
   },
   "outputs": [
    {
     "name": "stderr",
     "output_type": "stream",
     "text": [
      "/home/galm/software/django/tmvenv_36/lib/python3.6/site-packages/django/db/models/fields/__init__.py:1421: RuntimeWarning: DateTimeField DocOwnership.date received a naive datetime (2018-06-01 00:00:00) while time zone support is active.\n",
      "  RuntimeWarning)\n"
     ]
    },
    {
     "data": {
      "text/html": [
       "<div>\n",
       "<style scoped>\n",
       "    .dataframe tbody tr th:only-of-type {\n",
       "        vertical-align: middle;\n",
       "    }\n",
       "\n",
       "    .dataframe tbody tr th {\n",
       "        vertical-align: top;\n",
       "    }\n",
       "\n",
       "    .dataframe thead th {\n",
       "        text-align: right;\n",
       "    }\n",
       "</style>\n",
       "<table border=\"1\" class=\"dataframe\">\n",
       "  <thead>\n",
       "    <tr style=\"text-align: right;\">\n",
       "      <th></th>\n",
       "      <th>UT_id</th>\n",
       "      <th>authors</th>\n",
       "      <th>content</th>\n",
       "      <th>first_author</th>\n",
       "      <th>id</th>\n",
       "      <th>rated</th>\n",
       "      <th>relevant</th>\n",
       "      <th>tag</th>\n",
       "      <th>title</th>\n",
       "      <th>wosarticle__de</th>\n",
       "      <th>wosarticle__wc</th>\n",
       "    </tr>\n",
       "  </thead>\n",
       "  <tbody>\n",
       "    <tr>\n",
       "      <th>0</th>\n",
       "      <td>WOS:000368178300013</td>\n",
       "      <td>Ben Said, A, Shahzad, MK, Zamai, E, Hubac, S, ...</td>\n",
       "      <td>Increasing demand diversity has resulted in hi...</td>\n",
       "      <td>Ben Said, A</td>\n",
       "      <td>145433</td>\n",
       "      <td>2018-12-04 16:49:52.435801+00:00</td>\n",
       "      <td>0</td>\n",
       "      <td>1328</td>\n",
       "      <td>Experts' knowledge renewal and maintenance act...</td>\n",
       "      <td>Maintenance optimization; Dynamic knowledge ma...</td>\n",
       "      <td>[Engineering, Industrial; Ergonomics]</td>\n",
       "    </tr>\n",
       "    <tr>\n",
       "      <th>1</th>\n",
       "      <td>WOS:000239980800031</td>\n",
       "      <td>Chan, APC, Chan, DWM, Fan, LCN, Lam, PTI, Yeun...</td>\n",
       "      <td>Project partnering has gained popularity in th...</td>\n",
       "      <td>Chan, APC</td>\n",
       "      <td>88732</td>\n",
       "      <td>2018-09-21 02:32:31.206470+00:00</td>\n",
       "      <td>0</td>\n",
       "      <td>753</td>\n",
       "      <td>Partnering for construction excellence - A rea...</td>\n",
       "      <td>project partnering; partnering framework; comp...</td>\n",
       "      <td>[Construction &amp; Building Technology; Engineeri...</td>\n",
       "    </tr>\n",
       "    <tr>\n",
       "      <th>2</th>\n",
       "      <td>WOS:000244233900004</td>\n",
       "      <td>Kangas, A, Leskinen, P, Kangas, J</td>\n",
       "      <td>Criteria used to measure ecological or social ...</td>\n",
       "      <td>Kangas, A</td>\n",
       "      <td>195165</td>\n",
       "      <td>2018-09-24 13:13:44.179815+00:00</td>\n",
       "      <td>1</td>\n",
       "      <td>760</td>\n",
       "      <td>Comparison of fuzzy and statistical approaches...</td>\n",
       "      <td>decisionmaking; uncertainty; preferences; risk</td>\n",
       "      <td>[Forestry]</td>\n",
       "    </tr>\n",
       "    <tr>\n",
       "      <th>3</th>\n",
       "      <td>WOS:000285823100009</td>\n",
       "      <td>Kagan, S</td>\n",
       "      <td>Contemporary developments around the search fo...</td>\n",
       "      <td>Kagan, S</td>\n",
       "      <td>229330</td>\n",
       "      <td>2018-09-21 12:42:54.004935+00:00</td>\n",
       "      <td>1</td>\n",
       "      <td>760</td>\n",
       "      <td>Cultures of sustainability and the aesthetics ...</td>\n",
       "      <td>None</td>\n",
       "      <td>[Economics; Planning &amp; Development]</td>\n",
       "    </tr>\n",
       "    <tr>\n",
       "      <th>4</th>\n",
       "      <td>WOS:000337760300005</td>\n",
       "      <td>Sato, S, Cuntz, M, Olvera, CMG, Jack, D, Schro...</td>\n",
       "      <td>We explore the general astrobiological signifi...</td>\n",
       "      <td>Sato, S</td>\n",
       "      <td>685808</td>\n",
       "      <td>2018-12-04 16:49:52.493706+00:00</td>\n",
       "      <td>0</td>\n",
       "      <td>1328</td>\n",
       "      <td>Habitability around F-type stars</td>\n",
       "      <td>extrasolar planets; extraterrestrial life; F-t...</td>\n",
       "      <td>[Astronomy &amp; Astrophysics; Biology; Geoscience...</td>\n",
       "    </tr>\n",
       "  </tbody>\n",
       "</table>\n",
       "</div>"
      ],
      "text/plain": [
       "                 UT_id                                            authors  \\\n",
       "0  WOS:000368178300013  Ben Said, A, Shahzad, MK, Zamai, E, Hubac, S, ...   \n",
       "1  WOS:000239980800031  Chan, APC, Chan, DWM, Fan, LCN, Lam, PTI, Yeun...   \n",
       "2  WOS:000244233900004                  Kangas, A, Leskinen, P, Kangas, J   \n",
       "3  WOS:000285823100009                                           Kagan, S   \n",
       "4  WOS:000337760300005  Sato, S, Cuntz, M, Olvera, CMG, Jack, D, Schro...   \n",
       "\n",
       "                                             content first_author      id  \\\n",
       "0  Increasing demand diversity has resulted in hi...  Ben Said, A  145433   \n",
       "1  Project partnering has gained popularity in th...    Chan, APC   88732   \n",
       "2  Criteria used to measure ecological or social ...    Kangas, A  195165   \n",
       "3  Contemporary developments around the search fo...     Kagan, S  229330   \n",
       "4  We explore the general astrobiological signifi...      Sato, S  685808   \n",
       "\n",
       "                              rated  relevant   tag  \\\n",
       "0  2018-12-04 16:49:52.435801+00:00         0  1328   \n",
       "1  2018-09-21 02:32:31.206470+00:00         0   753   \n",
       "2  2018-09-24 13:13:44.179815+00:00         1   760   \n",
       "3  2018-09-21 12:42:54.004935+00:00         1   760   \n",
       "4  2018-12-04 16:49:52.493706+00:00         0  1328   \n",
       "\n",
       "                                               title  \\\n",
       "0  Experts' knowledge renewal and maintenance act...   \n",
       "1  Partnering for construction excellence - A rea...   \n",
       "2  Comparison of fuzzy and statistical approaches...   \n",
       "3  Cultures of sustainability and the aesthetics ...   \n",
       "4                   Habitability around F-type stars   \n",
       "\n",
       "                                      wosarticle__de  \\\n",
       "0  Maintenance optimization; Dynamic knowledge ma...   \n",
       "1  project partnering; partnering framework; comp...   \n",
       "2     decisionmaking; uncertainty; preferences; risk   \n",
       "3                                               None   \n",
       "4  extrasolar planets; extraterrestrial life; F-t...   \n",
       "\n",
       "                                      wosarticle__wc  \n",
       "0              [Engineering, Industrial; Ergonomics]  \n",
       "1  [Construction & Building Technology; Engineeri...  \n",
       "2                                         [Forestry]  \n",
       "3                [Economics; Planning & Development]  \n",
       "4  [Astronomy & Astrophysics; Biology; Geoscience...  "
      ]
     },
     "execution_count": 13,
     "metadata": {},
     "output_type": "execute_result"
    }
   ],
   "source": [
    "q = Query.objects.get(pk=1457)\n",
    "\n",
    "doubletag = Tag.objects.get(pk=1405)\n",
    "\n",
    "cutoff = datetime.datetime(2018,6,1,0,0,0)\n",
    "\n",
    "rated_docs = DocOwnership.objects.filter(\n",
    "    tag__query=1457,\n",
    "    date__gt=cutoff,\n",
    "    date__isnull=False\n",
    ").exclude(tag=doubletag).values_list('doc__id',flat=True)\n",
    "\n",
    "ratings = list(Doc.objects.filter(id__in=rated_docs,content__iregex='\\w').values(*columns))\n",
    "for r in ratings:\n",
    "    d = Doc.objects.get(pk=r['id'])\n",
    "    dos = DocOwnership.objects.filter(query=q,doc=d,relevant__gt=0)\n",
    "    if dos.count() == 1:\n",
    "        r['tag'] = dos.first().tag_id\n",
    "        r['relevant'] = dos.first().relevant\n",
    "        r['rated'] = dos.first().date\n",
    "    elif dos.count() > 1:\n",
    "        r['tag'] = dos.first().tag_id\n",
    "        if dos.filter(relevant=1).count()>0:\n",
    "            r['relevant'] = 1\n",
    "            r['rated'] = dos.first().date\n",
    "        else:\n",
    "            r['relevant'] = dos.order_by('relevant').first().relevant\n",
    "            r['rated'] = dos.first().date\n",
    "    else:\n",
    "        r['tag'] = \"\"\n",
    "        r['relevant'] = 8\n",
    "        r['rated'] = \"\"\n",
    "        \n",
    "df = pd.DataFrame.from_dict(ratings)\n",
    "\n",
    "df = df[df['relevant'].isin([1,2])]\n",
    "\n",
    "df['relevant'][df['relevant']==2] = 0\n",
    "\n",
    "df = df.reset_index(drop=True)\n",
    "\n",
    "df.head()\n"
   ]
  },
  {
   "cell_type": "code",
   "execution_count": 14,
   "metadata": {
    "collapsed": false,
    "deletable": true,
    "editable": true
   },
   "outputs": [
    {
     "data": {
      "text/plain": [
       "(2964, 11)"
      ]
     },
     "execution_count": 14,
     "metadata": {},
     "output_type": "execute_result"
    }
   ],
   "source": [
    "df.shape"
   ]
  },
  {
   "cell_type": "code",
   "execution_count": 15,
   "metadata": {
    "collapsed": false,
    "deletable": true,
    "editable": true
   },
   "outputs": [],
   "source": [
    "df.to_csv('docs.csv')"
   ]
  }
 ],
 "metadata": {
  "kernelspec": {
   "display_name": "tmvenv_36",
   "language": "python",
   "name": "tmvenv_36"
  },
  "language_info": {
   "codemirror_mode": {
    "name": "ipython",
    "version": 3
   },
   "file_extension": ".py",
   "mimetype": "text/x-python",
   "name": "python",
   "nbconvert_exporter": "python",
   "pygments_lexer": "ipython3",
   "version": "3.6.6"
  }
 },
 "nbformat": 4,
 "nbformat_minor": 2
}
