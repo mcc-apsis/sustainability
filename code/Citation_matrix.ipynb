{
 "cells": [
  {
   "cell_type": "code",
   "execution_count": 17,
   "metadata": {
    "collapsed": false,
    "deletable": true,
    "editable": true
   },
   "outputs": [],
   "source": [
    "import django, os, sys, time, resource, re, gc, shutil\n",
    "import numpy as np\n",
    "import matplotlib.pyplot as plt\n",
    "import numpy as np\n",
    "import pandas as pd\n",
    "from django.db.models import Count, Avg\n",
    "from multiprocess import Pool\n",
    "from functools import partial\n",
    "import numpy as np\n",
    "from functools import partial\n",
    "from scipy.sparse import coo_matrix, csr_matrix, find, tril\n",
    "import networkx as nx\n",
    "import csv\n",
    "\n",
    "sys.path.append('/home/galm/software/tmv/BasicBrowser/')\n",
    "\n",
    "os.environ.setdefault(\"DJANGO_SETTINGS_MODULE\", \"BasicBrowser.settings\")\n",
    "django.setup()\n",
    "\n",
    "from scoping.models import *\n",
    "from tmv_app.models import *\n",
    "qid = 1457\n",
    "\n",
    "def save_sparse_csr(filename,array):\n",
    "    np.savez(filename,data = array.data ,indices=array.indices,\n",
    "             indptr =array.indptr, shape=array.shape )"
   ]
  },
  {
   "cell_type": "code",
   "execution_count": 11,
   "metadata": {
    "collapsed": false,
    "deletable": true,
    "editable": true
   },
   "outputs": [
    {
     "name": "stdout",
     "output_type": "stream",
     "text": [
      "42476\n"
     ]
    }
   ],
   "source": [
    "q = Query.objects.get(pk=qid)\n",
    "\n",
    "mdocs = Doc.objects.filter(\n",
    "    query=q,\n",
    "    wosarticle__cr__isnull=False\n",
    ")\n",
    "\n",
    "referred_citations = Citation.objects.filter(\n",
    "    referent__isnull=False,\n",
    "    referent__UT__in=mdocs.values_list('UT',flat=True)\n",
    ")\n",
    "print(referred_citations.count())\n",
    "rcs = referred_citations.values_list('id',flat=True)"
   ]
  },
  {
   "cell_type": "code",
   "execution_count": 8,
   "metadata": {
    "collapsed": false,
    "deletable": true,
    "editable": true
   },
   "outputs": [
    {
     "name": "stdout",
     "output_type": "stream",
     "text": [
      "275151\n",
      "ROWIDS\n",
      "colids\n",
      "data\n",
      "matrix\n"
     ]
    }
   ],
   "source": [
    "cdos = CDO.objects.filter(\n",
    "    doc__query=q,\n",
    "    citation__in=rcs\n",
    ")\n",
    "print(cdos.count())\n",
    "\n",
    "m = mdocs.count()\n",
    "m_dict = dict(zip(\n",
    "    list(mdocs.values_list('UT',flat=True)),\n",
    "    list(range(m))\n",
    "))\n",
    "\n",
    "\n",
    "rev_m_dict = dict(zip(\n",
    "    list(range(m)),\n",
    "    list(mdocs.values_list('UT',flat=True))\n",
    "))\n",
    "\n",
    "print(\"ROWIDS\")\n",
    "row_ids = list(cdos.values_list('doc__UT',flat=True))\n",
    "rows = np.array([m_dict[x] for x in row_ids])\n",
    "\n",
    "print(\"colids\")\n",
    "col_ids = list(cdos.values_list('citation__referent__UT',flat=True))\n",
    "cols = np.array([m_dict[x] for x in col_ids])\n",
    "\n",
    "print(\"data\")\n",
    "data = np.array([1]*cdos.count())\n",
    "\n",
    "print(\"matrix\")\n",
    "Scoo = coo_matrix((data, (rows,cols)),shape=(m,m))"
   ]
  },
  {
   "cell_type": "code",
   "execution_count": 9,
   "metadata": {
    "collapsed": false,
    "deletable": true,
    "editable": true
   },
   "outputs": [
    {
     "data": {
      "text/plain": [
       "(164837, 164837)"
      ]
     },
     "execution_count": 9,
     "metadata": {},
     "output_type": "execute_result"
    }
   ],
   "source": [
    "S = Scoo.tocsr()\n",
    "S.shape"
   ]
  },
  {
   "cell_type": "code",
   "execution_count": 14,
   "metadata": {
    "collapsed": false,
    "deletable": true,
    "editable": true
   },
   "outputs": [],
   "source": [
    "\n",
    "save_sparse_csr(\"../networks/1457_citations\",S)\n"
   ]
  },
  {
   "cell_type": "code",
   "execution_count": 11,
   "metadata": {
    "collapsed": false,
    "deletable": true,
    "editable": true
   },
   "outputs": [
    {
     "data": {
      "text/plain": [
       "<164837x164837 sparse matrix of type '<class 'numpy.int64'>'\n",
       "\twith 274481 stored elements in Compressed Sparse Row format>"
      ]
     },
     "execution_count": 11,
     "metadata": {},
     "output_type": "execute_result"
    }
   ],
   "source": [
    "S"
   ]
  },
  {
   "cell_type": "markdown",
   "metadata": {
    "collapsed": false,
    "deletable": true,
    "editable": true
   },
   "source": [
    "\n",
    "## do again with Lutz' data"
   ]
  },
  {
   "cell_type": "code",
   "execution_count": 10,
   "metadata": {
    "collapsed": false,
    "deletable": true,
    "editable": true
   },
   "outputs": [
    {
     "name": "stdout",
     "output_type": "stream",
     "text": [
      "528296\n",
      "3514002\n"
     ]
    }
   ],
   "source": [
    "q = Query.objects.get(pk=qid)\n",
    "\n",
    "mdocs = Doc.objects.filter(\n",
    "    query=q\n",
    ")\n",
    "\n",
    "with open(\"../networks/1457_nodelabels_lutz.txt\",\"w\") as f:\n",
    "    for i in mdocs.iterator():\n",
    "        f.write(\"{}\\t{}\\n\".format(i.title,i.UT))\n",
    "        \n",
    "with open(\"../cluster/1457_nodelabels_lutz.txt\",\"w\") as f:\n",
    "    for i in mdocs.iterator():\n",
    "        f.write(\"{}\\t{}\\n\".format(i.title,i.UT))\n",
    "\n",
    "m = mdocs.count()\n",
    "m_dict = dict(zip(\n",
    "    list(mdocs.values_list('UT',flat=True)),\n",
    "    list(range(m))\n",
    "))\n",
    "\n",
    "\n",
    "rev_m_dict = dict(zip(\n",
    "    list(range(m)),\n",
    "    list(mdocs.values_list('UT',flat=True))\n",
    "))\n",
    "\n",
    "\n",
    "citers = []\n",
    "cited = []\n",
    "brows = 0\n",
    "\n",
    "with open(\"../networks/jan_matched_data.csv\",\"r\") as jmd:\n",
    "    c = csv.DictReader(jmd,delimiter=\";\")\n",
    "    for row in c:\n",
    "        try:\n",
    "            c1 = m_dict[row[\"citing_ut\"]]\n",
    "            c2 = m_dict[row[\"cited_ut\"]]\n",
    "            citers.append(c1)\n",
    "            cited.append(c2)\n",
    "        except KeyError:\n",
    "            brows+=1\n",
    "print(len(citers))\n",
    "print(brows)\n",
    "            "
   ]
  },
  {
   "cell_type": "code",
   "execution_count": 11,
   "metadata": {
    "collapsed": false,
    "deletable": true,
    "editable": true
   },
   "outputs": [
    {
     "data": {
      "text/plain": [
       "(172557, 172557)"
      ]
     },
     "execution_count": 11,
     "metadata": {},
     "output_type": "execute_result"
    }
   ],
   "source": [
    "data = np.array([1]*len(citers))\n",
    "\n",
    "Scoo = coo_matrix((data, (citers,cited)),shape=(m,m))\n",
    "\n",
    "S = Scoo.tocsr()\n",
    "S.shape"
   ]
  },
  {
   "cell_type": "code",
   "execution_count": 12,
   "metadata": {
    "collapsed": false,
    "deletable": true,
    "editable": true
   },
   "outputs": [],
   "source": [
    "\n",
    "save_sparse_csr(\"../networks/1457_citations_lutz\",S)\n",
    "save_sparse_csr(\"../cluster/1457_citations_lutz\",S)"
   ]
  },
  {
   "cell_type": "markdown",
   "metadata": {
    "collapsed": true,
    "deletable": true,
    "editable": true
   },
   "source": [
    "## again with bib coupling"
   ]
  },
  {
   "cell_type": "code",
   "execution_count": 30,
   "metadata": {
    "collapsed": false
   },
   "outputs": [
    {
     "name": "stdout",
     "output_type": "stream",
     "text": [
      "4042298\n",
      "0\n"
     ]
    }
   ],
   "source": [
    "django.db.connections.close_all()\n",
    "\n",
    "q = Query.objects.get(pk=qid)\n",
    "\n",
    "mdocs = Doc.objects.filter(\n",
    "    query=q\n",
    ")\n",
    "\n",
    "global n_dict\n",
    "n_dict = {}\n",
    "\n",
    "def cit_ider(c):\n",
    "    try:\n",
    "        r = n_dict[c]\n",
    "        #print(r)\n",
    "    except:\n",
    "        r = len(n_dict)\n",
    "        n_dict[c] = r\n",
    "    return(r)\n",
    "        \n",
    "citers = []\n",
    "cited = []\n",
    "brows = 0 \n",
    "\n",
    "    \n",
    "with open(\"../networks/jan_matched_data.csv\",\"r\") as jmd:\n",
    "    c = csv.DictReader(jmd,delimiter=\";\")\n",
    "    for row in c:\n",
    "        try:\n",
    "            c1 = m_dict[row[\"citing_ut\"]]\n",
    "            c2 = cit_ider(row[\"cited_ut\"])\n",
    "            citers.append(c1)\n",
    "            cited.append(c2)\n",
    "        except KeyError:\n",
    "            brows+=1\n",
    "            print(row)\n",
    "            break\n",
    "print(len(citers))\n",
    "print(brows)\n",
    "            "
   ]
  },
  {
   "cell_type": "code",
   "execution_count": 31,
   "metadata": {
    "collapsed": false
   },
   "outputs": [
    {
     "data": {
      "text/plain": [
       "(172557, 1720102)"
      ]
     },
     "execution_count": 31,
     "metadata": {},
     "output_type": "execute_result"
    }
   ],
   "source": [
    "data = np.array([1]*len(citers))\n",
    "\n",
    "n = len(n_dict)\n",
    "\n",
    "Scoo = coo_matrix((data, (citers,cited)),shape=(m,n))\n",
    "\n",
    "S = Scoo.tocsr()\n",
    "S.shape"
   ]
  },
  {
   "cell_type": "code",
   "execution_count": 38,
   "metadata": {
    "collapsed": false
   },
   "outputs": [
    {
     "name": "stdout",
     "output_type": "stream",
     "text": [
      "multiply\n"
     ]
    }
   ],
   "source": [
    "St = S.transpose()\n",
    "Cmat = S*St\n",
    "Cmat\n"
   ]
  },
  {
   "cell_type": "code",
   "execution_count": 39,
   "metadata": {
    "collapsed": false
   },
   "outputs": [
    {
     "data": {
      "text/plain": [
       "<172557x172557 sparse matrix of type '<class 'numpy.int64'>'\n",
       "\twith 484416277 stored elements in Compressed Sparse Row format>"
      ]
     },
     "execution_count": 39,
     "metadata": {},
     "output_type": "execute_result"
    }
   ],
   "source": [
    "Cmat"
   ]
  },
  {
   "cell_type": "code",
   "execution_count": 49,
   "metadata": {
    "collapsed": false
   },
   "outputs": [],
   "source": [
    "s_3 = Cmat.multiply(Cmat > 2)\n",
    "s_3\n",
    "\n",
    "save_sparse_csr(\"../networks/1457_bc_lutz_3\",s_3)\n",
    "save_sparse_csr(\"../cluster/1457_bc_lutz_3\",s_3)"
   ]
  },
  {
   "cell_type": "code",
   "execution_count": 44,
   "metadata": {
    "collapsed": false
   },
   "outputs": [
    {
     "data": {
      "text/plain": [
       "<1x3194775 sparse matrix of type '<class 'numpy.int64'>'\n",
       "\twith 3194775 stored elements in Compressed Sparse Row format>"
      ]
     },
     "execution_count": 44,
     "metadata": {},
     "output_type": "execute_result"
    }
   ],
   "source": []
  },
  {
   "cell_type": "code",
   "execution_count": null,
   "metadata": {
    "collapsed": true
   },
   "outputs": [],
   "source": []
  }
 ],
 "metadata": {
  "kernelspec": {
   "display_name": "Python 3",
   "language": "python",
   "name": "python3"
  },
  "language_info": {
   "codemirror_mode": {
    "name": "ipython",
    "version": 3
   },
   "file_extension": ".py",
   "mimetype": "text/x-python",
   "name": "python",
   "nbconvert_exporter": "python",
   "pygments_lexer": "ipython3",
   "version": "3.4.3"
  }
 },
 "nbformat": 4,
 "nbformat_minor": 2
}
