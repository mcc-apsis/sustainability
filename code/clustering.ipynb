{
 "cells": [
  {
   "cell_type": "code",
   "execution_count": 35,
   "metadata": {
    "collapsed": true,
    "deletable": true,
    "editable": true
   },
   "outputs": [],
   "source": [
    "import django, os, sys, time, resource, re, gc, shutil\n",
    "import numpy as np\n",
    "import matplotlib.pyplot as plt\n",
    "import numpy as np\n",
    "import pandas as pd\n",
    "from django.db.models import Count, Avg\n",
    "from multiprocess import Pool\n",
    "from functools import partial\n",
    "import numpy as np\n",
    "from functools import partial\n",
    "from scipy.sparse import coo_matrix, csr_matrix, find, tril\n",
    "import networkx as nx\n",
    "\n",
    "sys.path.append('/home/galm/software/tmv/BasicBrowser/')\n",
    "\n",
    "os.environ.setdefault(\"DJANGO_SETTINGS_MODULE\", \"BasicBrowser.settings\")\n",
    "django.setup()\n",
    "\n",
    "from scoping.models import *\n",
    "from tmv_app.models import *\n",
    "qid = 1457\n",
    "\n",
    "def save_sparse_csr(filename,array):\n",
    "    np.savez(filename,data = array.data ,indices=array.indices,\n",
    "             indptr =array.indptr, shape=array.shape )"
   ]
  },
  {
   "cell_type": "code",
   "execution_count": 30,
   "metadata": {
    "collapsed": false,
    "deletable": true,
    "editable": true
   },
   "outputs": [
    {
     "name": "stdout",
     "output_type": "stream",
     "text": [
      "ROWIDS\n",
      "colids\n",
      "data\n",
      "matrix\n",
      "transpose\n",
      "multiply\n"
     ]
    }
   ],
   "source": [
    "q = Query.objects.get(pk=qid)\n",
    "\n",
    "mdocs = Doc.objects.filter(\n",
    "    query=q,\n",
    "    wosarticle__cr__isnull=False\n",
    ")\n",
    "\n",
    "cdos = CDO.objects.filter(\n",
    "    doc__query=q\n",
    ")#.values('doc','citation').distinct()\n",
    "\n",
    "# cdos = CDO.objects.filter(\n",
    "#     doc__in=mdocs.values_list('UT',flat=True)\n",
    "# )\n",
    "\n",
    "\n",
    "m = mdocs.count()\n",
    "m_dict = dict(zip(\n",
    "    list(mdocs.values_list('UT',flat=True)),\n",
    "    list(range(m))\n",
    "))\n",
    "\n",
    "\n",
    "rev_m_dict = dict(zip(\n",
    "    list(range(m)),\n",
    "    list(mdocs.values_list('UT',flat=True))\n",
    "))\n",
    "\n",
    "del mdocs\n",
    "\n",
    "\n",
    "n = Citation.objects.count()\n",
    "n_dict = dict(zip(\n",
    "    list(Citation.objects.all().values_list('id',flat=True)),\n",
    "    list(range(n))\n",
    "))\n",
    "\n",
    "rev_n_dict = dict(zip(\n",
    "    list(range(n)),\n",
    "    list(Citation.objects.all().values_list('id',flat=True))\n",
    "\n",
    "))\n",
    "\n",
    "print(\"ROWIDS\")\n",
    "row_ids = list(cdos.values_list('doc__UT',flat=True))\n",
    "rows = np.array([m_dict[x] for x in row_ids])\n",
    "\n",
    "print(\"colids\")\n",
    "col_ids = list(cdos.values_list('citation__id',flat=True))\n",
    "cols = np.array([n_dict[x] for x in col_ids])\n",
    "\n",
    "print(\"data\")\n",
    "data = np.array([1]*cdos.count())\n",
    "\n",
    "print(\"matrix\")\n",
    "Scoo = coo_matrix((data, (rows,cols)),shape=(m,n))\n",
    "\n",
    "del cdos\n",
    "#del row_ids\n",
    "#del rows\n",
    "#del col_ids\n",
    "#del cols\n",
    "del n_dict\n",
    "\n",
    "gc.collect()\n",
    "\n",
    "\n",
    "S = Scoo.tocsr()\n",
    "del Scoo\n",
    "gc.collect()\n",
    "\n",
    "print(\"transpose\")\n",
    "St = S.transpose()\n",
    "\n",
    "print(\"multiply\")\n",
    "Cmat = S*St\n",
    "\n",
    "\n",
    "del St\n",
    "gc.collect()\n",
    "\n",
    "ltri = tril(Cmat,k=-1)"
   ]
  },
  {
   "cell_type": "code",
   "execution_count": 36,
   "metadata": {
    "collapsed": false
   },
   "outputs": [],
   "source": [
    "save_sparse_csr(\"../networks/1457\",ltri.tocsr())"
   ]
  },
  {
   "cell_type": "code",
   "execution_count": 32,
   "metadata": {
    "collapsed": false
   },
   "outputs": [
    {
     "name": "stdout",
     "output_type": "stream",
     "text": [
      "[[238]]\n",
      "  (153974, 40595)\tTrue\n"
     ]
    }
   ],
   "source": [
    "big = ltri.tocsr()[ltri > 200]\n",
    "print(big)\n",
    "big = ltri > 200\n",
    "print(big)"
   ]
  },
  {
   "cell_type": "code",
   "execution_count": 29,
   "metadata": {
    "collapsed": false
   },
   "outputs": [
    {
     "name": "stdout",
     "output_type": "stream",
     "text": [
      "[  18037   25385   28544 ..., 4348092 4348093 4348096]\n"
     ]
    }
   ],
   "source": [
    "print(data[data > 1])\n",
    "weird = S > 1\n",
    "print(S.shape)\n",
    "print(\"m = {}, n = {}\".format(m,n))\n",
    "print(m*n)\n",
    "print(S.getnnz())\n",
    "print(weird.getnnz())\n",
    "\n",
    "wf = find(weird)\n",
    "\n",
    "print(wf[1])\n",
    "for x in range(weird.getnnz()):\n",
    "#for x in range(10):\n",
    "    row = rev_m_dict[wf[0][x]]\n",
    "    col = rev_n_dict[wf[1][x]]\n",
    "    cdos = CDO.objects.filter(doc=row,citation=col)\n",
    "    if cdos.count() > 1:\n",
    "        cdos.last().delete()\n"
   ]
  },
  {
   "cell_type": "code",
   "execution_count": 26,
   "metadata": {
    "collapsed": false
   },
   "outputs": [],
   "source": [
    "\n",
    "\n"
   ]
  },
  {
   "cell_type": "code",
   "execution_count": 33,
   "metadata": {
    "collapsed": false
   },
   "outputs": [
    {
     "name": "stdout",
     "output_type": "stream",
     "text": [
      "TURNER REVIEW No. 6 - Genetic pollution of native eucalypt gene pools - Identifying the risks (vol 51, pg 1, 2003)\n",
      "251\n",
      "Genetic pollution of native eucalypt gene pools - identifying the risks\n",
      "251\n"
     ]
    }
   ],
   "source": [
    "print(Doc.objects.get(UT=rev_m_dict[153974]).title)\n",
    "print(Doc.objects.get(UT=rev_m_dict[153974]).cdo_set.count())\n",
    "print(Doc.objects.get(UT=rev_m_dict[40595]).title)\n",
    "print(Doc.objects.get(UT=rev_m_dict[40595]).cdo_set.count())"
   ]
  },
  {
   "cell_type": "code",
   "execution_count": 32,
   "metadata": {
    "collapsed": false
   },
   "outputs": [
    {
     "data": {
      "text/plain": [
       "'WOS:000280719700002'"
      ]
     },
     "execution_count": 32,
     "metadata": {},
     "output_type": "execute_result"
    }
   ],
   "source": [
    "rev_m_dict[23802]\n",
    "rev_m_dict[7074]"
   ]
  },
  {
   "cell_type": "code",
   "execution_count": 35,
   "metadata": {
    "collapsed": false
   },
   "outputs": [
    {
     "name": "stdout",
     "output_type": "stream",
     "text": [
      "WOS:000347944700001\n"
     ]
    }
   ],
   "source": [
    "d = Doc.objects.get(pk='WOS:000347944700001')\n",
    "print(d.title)"
   ]
  },
  {
   "cell_type": "code",
   "execution_count": 16,
   "metadata": {
    "collapsed": false,
    "deletable": true,
    "editable": true
   },
   "outputs": [],
   "source": [
    "ltri\n",
    "mat = find(ltri)\n",
    "edge_n = len(mat[0])\n",
    "\n",
    "with open(\"../networks/1457.edgelist\",\"w\") as f:\n",
    "\n",
    "    for i in range(edge_n):\n",
    "        f.write(\"{} {} {}\\n\".format(mat[0][i],mat[1][i],mat[2][i]))"
   ]
  },
  {
   "cell_type": "code",
   "execution_count": 17,
   "metadata": {
    "collapsed": false,
    "deletable": true,
    "editable": true
   },
   "outputs": [],
   "source": [
    "mdocs = Doc.objects.filter(\n",
    "    query=q,\n",
    "    wosarticle__cr__isnull=False\n",
    ")\n",
    "\n",
    "with open(\"../networks/1457_nodelabels.txt\",\"w\") as f:\n",
    "    for i in mdocs.iterator():\n",
    "        f.write(\"{}\\t{}\\n\".format(i.title,i.UT))\n",
    "        \n",
    "        "
   ]
  },
  {
   "cell_type": "code",
   "execution_count": null,
   "metadata": {
    "collapsed": true
   },
   "outputs": [],
   "source": []
  },
  {
   "cell_type": "code",
   "execution_count": 4,
   "metadata": {
    "collapsed": true,
    "deletable": true,
    "editable": true
   },
   "outputs": [],
   "source": [
    "from sklearn.cluster import AffinityPropagation\n",
    "from sklearn import metrics\n",
    "from scipy.sparse.csgraph import *"
   ]
  },
  {
   "cell_type": "code",
   "execution_count": 5,
   "metadata": {
    "collapsed": true,
    "deletable": true,
    "editable": true
   },
   "outputs": [],
   "source": [
    "#af = AffinityPropagation(preference=-50).fit(ltri)"
   ]
  },
  {
   "cell_type": "code",
   "execution_count": 6,
   "metadata": {
    "collapsed": false,
    "deletable": true,
    "editable": true
   },
   "outputs": [
    {
     "name": "stdout",
     "output_type": "stream",
     "text": [
      "length\n",
      "1         8040\n",
      "2          190\n",
      "3           37\n",
      "4            3\n",
      "5            4\n",
      "7            1\n",
      "141137       1\n",
      "dtype: int64\n"
     ]
    },
    {
     "data": {
      "image/png": "[encoded data removed]",
      "text/plain": [
       "<matplotlib.figure.Figure at 0x7f90210841d0>"
      ]
     },
     "metadata": {},
     "output_type": "display_data"
    }
   ],
   "source": [
    "\n",
    "N_components, component_list = connected_components(ltri, directed=False)\n",
    "\n",
    "clist = [np.sum(component_list == i) for i in range(N_components)]\n",
    "df = pd.DataFrame({\"length\": clist})\n",
    "sizes = df.groupby(\"length\", as_index=False).size()\n",
    "labels = [str(x) for x in sizes.index]\n",
    "print(sizes)\n",
    "#sizes = sizes.reindex(drop=True)\n",
    "\n",
    "plt.bar(list(range(len(sizes))),sizes.values)\n",
    "plt.show()"
   ]
  },
  {
   "cell_type": "code",
   "execution_count": 7,
   "metadata": {
    "collapsed": false,
    "deletable": true,
    "editable": true
   },
   "outputs": [
    {
     "data": {
      "text/plain": [
       "Int64Index([0], dtype='int64')"
      ]
     },
     "execution_count": 7,
     "metadata": {},
     "output_type": "execute_result"
    }
   ],
   "source": [
    "df[df['length']==141137].index"
   ]
  },
  {
   "cell_type": "code",
   "execution_count": 16,
   "metadata": {
    "collapsed": false,
    "deletable": true,
    "editable": true
   },
   "outputs": [
    {
     "data": {
      "text/plain": [
       "<141137x141137 sparse matrix of type '<class 'numpy.int64'>'\n",
       "\twith 30244903 stored elements in Compressed Sparse Column format>"
      ]
     },
     "execution_count": 16,
     "metadata": {},
     "output_type": "execute_result"
    }
   ],
   "source": [
    "nodes = []\n",
    "for i in range(len(component_list)):\n",
    "    if component_list[i]==0:\n",
    "        nodes.append(i)\n",
    "connected_graph = ltri.tocsr()[nodes, :].tocsc()[:,nodes]\n",
    "connected_graph"
   ]
  },
  {
   "cell_type": "code",
   "execution_count": null,
   "metadata": {
    "collapsed": true,
    "deletable": true,
    "editable": true
   },
   "outputs": [],
   "source": [
    "af = AffinityPropagation().fit(connected_graph)"
   ]
  },
  {
   "cell_type": "code",
   "execution_count": null,
   "metadata": {
    "collapsed": false,
    "deletable": true,
    "editable": true
   },
   "outputs": [],
   "source": [
    "distances, predecessors = dijkstra(ltri, return_predecessors=True)\n"
   ]
  },
  {
   "cell_type": "code",
   "execution_count": null,
   "metadata": {
    "collapsed": false,
    "deletable": true,
    "editable": true
   },
   "outputs": [],
   "source": [
    "gsize = 10000\n",
    "small_graph = ltri.tocsc()[0:gsize,0:gsize]\n",
    "distances, predecessors = dijkstra(small_graph, return_predecessors=True)"
   ]
  },
  {
   "cell_type": "code",
   "execution_count": null,
   "metadata": {
    "collapsed": false,
    "deletable": true,
    "editable": true
   },
   "outputs": [],
   "source": []
  },
  {
   "cell_type": "code",
   "execution_count": 1,
   "metadata": {
    "collapsed": false,
    "deletable": true,
    "editable": true
   },
   "outputs": [
    {
     "ename": "NameError",
     "evalue": "name 'ltri' is not defined",
     "output_type": "error",
     "traceback": [
      "\u001b[0;31m---------------------------------------------------------------------------\u001b[0m",
      "\u001b[0;31mNameError\u001b[0m                                 Traceback (most recent call last)",
      "\u001b[0;32m<ipython-input-1-95b0e605b350>\u001b[0m in \u001b[0;36m<module>\u001b[0;34m()\u001b[0m\n\u001b[1;32m      1\u001b[0m \u001b[0mgsize\u001b[0m \u001b[0;34m=\u001b[0m \u001b[0;36m10000\u001b[0m\u001b[0;34m\u001b[0m\u001b[0m\n\u001b[0;32m----> 2\u001b[0;31m \u001b[0msmall_graph\u001b[0m \u001b[0;34m=\u001b[0m \u001b[0mltri\u001b[0m\u001b[0;34m.\u001b[0m\u001b[0mtocsc\u001b[0m\u001b[0;34m(\u001b[0m\u001b[0;34m)\u001b[0m\u001b[0;34m[\u001b[0m\u001b[0;36m0\u001b[0m\u001b[0;34m:\u001b[0m\u001b[0mgsize\u001b[0m\u001b[0;34m,\u001b[0m\u001b[0;36m0\u001b[0m\u001b[0;34m:\u001b[0m\u001b[0mgsize\u001b[0m\u001b[0;34m]\u001b[0m\u001b[0;34m\u001b[0m\u001b[0m\n\u001b[0m\u001b[1;32m      3\u001b[0m \u001b[0mN_components\u001b[0m\u001b[0;34m,\u001b[0m \u001b[0mcomponent_list\u001b[0m \u001b[0;34m=\u001b[0m \u001b[0mconnected_components\u001b[0m\u001b[0;34m(\u001b[0m\u001b[0mltri\u001b[0m\u001b[0;34m,\u001b[0m \u001b[0mdirected\u001b[0m\u001b[0;34m=\u001b[0m\u001b[0;32mFalse\u001b[0m\u001b[0;34m)\u001b[0m\u001b[0;34m\u001b[0m\u001b[0m\n\u001b[1;32m      4\u001b[0m \u001b[0;34m\u001b[0m\u001b[0m\n\u001b[1;32m      5\u001b[0m \u001b[0mclist\u001b[0m \u001b[0;34m=\u001b[0m \u001b[0;34m[\u001b[0m\u001b[0mnp\u001b[0m\u001b[0;34m.\u001b[0m\u001b[0msum\u001b[0m\u001b[0;34m(\u001b[0m\u001b[0mcomponent_list\u001b[0m \u001b[0;34m==\u001b[0m \u001b[0mi\u001b[0m\u001b[0;34m)\u001b[0m \u001b[0;32mfor\u001b[0m \u001b[0mi\u001b[0m \u001b[0;32min\u001b[0m \u001b[0mrange\u001b[0m\u001b[0;34m(\u001b[0m\u001b[0mN_components\u001b[0m\u001b[0;34m)\u001b[0m\u001b[0;34m]\u001b[0m\u001b[0;34m\u001b[0m\u001b[0m\n",
      "\u001b[0;31mNameError\u001b[0m: name 'ltri' is not defined"
     ]
    }
   ],
   "source": [
    "gsize = 10000\n",
    "small_graph = ltri.tocsc()[0:gsize,0:gsize]\n",
    "N_components, component_list = connected_components(ltri, directed=False)\n",
    "\n",
    "clist = [np.sum(component_list == i) for i in range(N_components)]\n",
    "df = pd.DataFrame({\"length\": clist})\n",
    "sizes = df.groupby(\"length\", as_index=False).size()\n",
    "labels = [str(x) for x in sizes.index]\n",
    "print(sizes)\n",
    "#sizes = sizes.reindex(drop=True)\n",
    "\n",
    "plt.bar(list(range(len(sizes))),sizes.values)\n",
    "plt.show()"
   ]
  },
  {
   "cell_type": "code",
   "execution_count": null,
   "metadata": {
    "collapsed": false,
    "deletable": true,
    "editable": true
   },
   "outputs": [],
   "source": [
    "cluster_centers_indices = af.cluster_centers_indices_\n",
    "labels = af.labels_\n",
    "\n",
    "n_clusters_ = len(cluster_centers_indices)\n",
    "\n",
    "print('Estimated number of clusters: %d' % n_clusters_)"
   ]
  },
  {
   "cell_type": "code",
   "execution_count": null,
   "metadata": {
    "collapsed": false,
    "deletable": true,
    "editable": true
   },
   "outputs": [],
   "source": [
    "print(labels)\n",
    "clist = [np.sum(labels == i) for i in range(n_clusters_)]\n",
    "df = pd.DataFrame({\"length\": clist})\n",
    "sizes = df.groupby(\"length\", as_index=False).size()\n",
    "print(sizes)\n",
    "#sizes = sizes.reindex(drop=True)\n",
    "\n",
    "plt.bar(list(range(len(sizes))),sizes.values)\n",
    "plt.show()"
   ]
  },
  {
   "cell_type": "code",
   "execution_count": null,
   "metadata": {
    "collapsed": false,
    "deletable": true,
    "editable": true
   },
   "outputs": [],
   "source": [
    "df[df['length']==51].index"
   ]
  },
  {
   "cell_type": "code",
   "execution_count": null,
   "metadata": {
    "collapsed": false,
    "deletable": true,
    "editable": true
   },
   "outputs": [],
   "source": [
    "nodes = []\n",
    "for i in range(len(labels)):\n",
    "    if labels[i]==446:\n",
    "        nodes.append(i)\n",
    "nodes"
   ]
  },
  {
   "cell_type": "code",
   "execution_count": null,
   "metadata": {
    "collapsed": false,
    "deletable": true,
    "editable": true
   },
   "outputs": [],
   "source": [
    "doc_ids = [Doc.objects.get(pk=rev_m_dict[i]).title for i in nodes]\n",
    "doc_ids"
   ]
  },
  {
   "cell_type": "code",
   "execution_count": null,
   "metadata": {
    "collapsed": true,
    "deletable": true,
    "editable": true
   },
   "outputs": [],
   "source": []
  }
 ],
 "metadata": {
  "kernelspec": {
   "display_name": "Python 3",
   "language": "python",
   "name": "python3"
  },
  "language_info": {
   "codemirror_mode": {
    "name": "ipython",
    "version": 3
   },
   "file_extension": ".py",
   "mimetype": "text/x-python",
   "name": "python",
   "nbconvert_exporter": "python",
   "pygments_lexer": "ipython3",
   "version": "3.4.3"
  }
 },
 "nbformat": 4,
 "nbformat_minor": 2
}
