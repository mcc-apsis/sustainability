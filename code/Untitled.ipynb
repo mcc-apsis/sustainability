{
 "cells": [
  {
   "cell_type": "code",
   "execution_count": 1,
   "metadata": {
    "collapsed": false
   },
   "outputs": [],
   "source": [
    "import django, os, sys, time, resource, re, gc, shutil\n",
    "import numpy as np\n",
    "import matplotlib.pyplot as plt\n",
    "import numpy as np\n",
    "import pandas as pd\n",
    "from django.db.models import Count, Avg\n",
    "from multiprocess import Pool\n",
    "from functools import partial\n",
    "import numpy as np\n",
    "from functools import partial\n",
    "from scipy.sparse import coo_matrix, csr_matrix, find, tril\n",
    "import networkx as nx\n",
    "\n",
    "sys.path.append('/home/galm/software/tmv/BasicBrowser/')\n",
    "\n",
    "os.environ.setdefault(\"DJANGO_SETTINGS_MODULE\", \"BasicBrowser.settings\")\n",
    "django.setup()\n",
    "\n",
    "from scoping.models import *\n",
    "from tmv_app.models import *\n",
    "qid = 1457\n",
    "\n",
    "def save_sparse_csr(filename,array):\n",
    "    np.savez(filename,data = array.data ,indices=array.indices,\n",
    "             indptr =array.indptr, shape=array.shape )"
   ]
  },
  {
   "cell_type": "code",
   "execution_count": 2,
   "metadata": {
    "collapsed": false
   },
   "outputs": [
    {
     "name": "stdout",
     "output_type": "stream",
     "text": [
      "42476\n"
     ]
    }
   ],
   "source": [
    "q = Query.objects.get(pk=qid)\n",
    "\n",
    "mdocs = Doc.objects.filter(\n",
    "    query=q,\n",
    "    wosarticle__cr__isnull=False\n",
    ")\n",
    "\n",
    "referred_citations = Citation.objects.filter(\n",
    "    referent__isnull=False,\n",
    "    referent__UT__in=mdocs.values_list('UT',flat=True)\n",
    ")\n",
    "print(referred_citations.count())\n",
    "rcs = referred_citations.values_list('id',flat=True)"
   ]
  },
  {
   "cell_type": "code",
   "execution_count": 3,
   "metadata": {
    "collapsed": false
   },
   "outputs": [
    {
     "name": "stdout",
     "output_type": "stream",
     "text": [
      "275151\n",
      "ROWIDS\n",
      "colids\n",
      "data\n",
      "matrix\n"
     ]
    }
   ],
   "source": [
    "cdos = CDO.objects.filter(\n",
    "    doc__query=q,\n",
    "    citation__in=rcs\n",
    ")\n",
    "print(cdos.count())\n",
    "\n",
    "m = mdocs.count()\n",
    "m_dict = dict(zip(\n",
    "    list(mdocs.values_list('UT',flat=True)),\n",
    "    list(range(m))\n",
    "))\n",
    "\n",
    "\n",
    "rev_m_dict = dict(zip(\n",
    "    list(range(m)),\n",
    "    list(mdocs.values_list('UT',flat=True))\n",
    "))\n",
    "\n",
    "print(\"ROWIDS\")\n",
    "row_ids = list(cdos.values_list('doc__UT',flat=True))\n",
    "rows = np.array([m_dict[x] for x in row_ids])\n",
    "\n",
    "print(\"colids\")\n",
    "col_ids = list(cdos.values_list('citation__referent__UT',flat=True))\n",
    "cols = np.array([m_dict[x] for x in col_ids])\n",
    "\n",
    "print(\"data\")\n",
    "data = np.array([1]*cdos.count())\n",
    "\n",
    "print(\"matrix\")\n",
    "Scoo = coo_matrix((data, (rows,cols)),shape=(m,m))"
   ]
  },
  {
   "cell_type": "code",
   "execution_count": null,
   "metadata": {
    "collapsed": false
   },
   "outputs": [],
   "source": []
  },
  {
   "cell_type": "code",
   "execution_count": 4,
   "metadata": {
    "collapsed": false
   },
   "outputs": [],
   "source": [
    "S = Scoo.tocsr()\n",
    "save_sparse_csr(\"../networks/1457_citations\",S)\n"
   ]
  },
  {
   "cell_type": "code",
   "execution_count": 5,
   "metadata": {
    "collapsed": false
   },
   "outputs": [
    {
     "data": {
      "text/plain": [
       "<164837x164837 sparse matrix of type '<class 'numpy.bool_'>'\n",
       "\twith 9 stored elements in Compressed Sparse Row format>"
      ]
     },
     "execution_count": 5,
     "metadata": {},
     "output_type": "execute_result"
    }
   ],
   "source": [
    "S > 2"
   ]
  }
 ],
 "metadata": {
  "kernelspec": {
   "display_name": "Python 3",
   "language": "python",
   "name": "python3"
  },
  "language_info": {
   "codemirror_mode": {
    "name": "ipython",
    "version": 3
   },
   "file_extension": ".py",
   "mimetype": "text/x-python",
   "name": "python",
   "nbconvert_exporter": "python",
   "pygments_lexer": "ipython3",
   "version": "3.4.3"
  }
 },
 "nbformat": 4,
 "nbformat_minor": 2
}
