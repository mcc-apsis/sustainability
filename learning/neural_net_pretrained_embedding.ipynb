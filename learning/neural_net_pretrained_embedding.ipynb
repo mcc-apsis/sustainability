{
 "cells": [
  {
   "cell_type": "code",
   "execution_count": 18,
   "metadata": {},
   "outputs": [],
   "source": [
    "## Source: https://blog.keras.io/using-pre-trained-word-embeddings-in-a-keras-model.html\n",
    "\n",
    "from keras.preprocessing.text import Tokenizer\n",
    "from keras.preprocessing.sequence import pad_sequences\n",
    "from keras.utils import to_categorical\n",
    "from keras.models import Model\n",
    "from keras.layers import Embedding, Input, Dense, Conv1D, MaxPooling1D, Flatten\n",
    "from keras.layers import LSTM, Activation, Dropout\n",
    "from keras.optimizers import RMSprop\n",
    "from gensim.models import Word2Vec\n",
    "\n",
    "import matplotlib.pyplot as plt\n",
    "\n",
    "import pandas as pd\n",
    "import numpy as np\n",
    "import datetime\n",
    "\n",
    "MAX_NB_WORDS = 22500\n",
    "MAX_NB_WORDS = 6000\n",
    "MAX_SEQUENCE_LENGTH = 1108\n",
    "MAX_SEQUENCE_LENGTH = 1586\n",
    "VALIDATION_SPLIT = 0.25\n",
    "\n"
   ]
  },
  {
   "cell_type": "markdown",
   "metadata": {},
   "source": [
    "## Import the data"
   ]
  },
  {
   "cell_type": "code",
   "execution_count": 12,
   "metadata": {},
   "outputs": [
    {
     "name": "stdout",
     "output_type": "stream",
     "text": [
      "(1865, 14)\n"
     ]
    }
   ],
   "source": [
    "df = pd.read_csv('docs.csv').sample(frac=1).reset_index(drop=True)\n",
    "df['date'] = df['rated'].apply(lambda x: datetime.datetime.strptime(x[:19],\"%Y-%m-%d %H:%M:%S\"))\n",
    "df = df[df['date'] > datetime.datetime(2018,6,1,0,0,0)].reset_index(drop=True)\n",
    "\n",
    "df.head()\n",
    "\n",
    "## Extracting sus sentence:\n",
    "from nltk.tokenize import sent_tokenize\n",
    "def extract_sus(row):\n",
    "    if \"sustainab\" in row['title'].lower():\n",
    "        return row[\"title\"]\n",
    "    elif \"sustainab\" in row[\"content\"].lower():\n",
    "        for sent in sent_tokenize(row[\"content\"]):\n",
    "            if \"sustainab\" in sent.lower():\n",
    "                return sent\n",
    "    elif \"sustainab\" in str(row[\"wosarticle__de\"]).lower():\n",
    "        for kw in row[\"content\"].split(\";\"):\n",
    "            if \"sustainab\" in kw:\n",
    "                return kw.strip()\n",
    "    \n",
    "df['sus_sentence'] = df.apply(lambda row: extract_sus(row),axis=1)\n",
    "df = df[pd.notna(df['sus_sentence'])].reset_index(drop=True)\n",
    "\n",
    "print(df.shape)\n",
    "\n",
    "y = df['relevant']\n",
    "texts = list(df['sus_sentence'])\n",
    "df_labels = list(df['relevant'])"
   ]
  },
  {
   "cell_type": "code",
   "execution_count": 6,
   "metadata": {},
   "outputs": [],
   "source": []
  },
  {
   "cell_type": "markdown",
   "metadata": {},
   "source": [
    "## Format into tensors"
   ]
  },
  {
   "cell_type": "code",
   "execution_count": 13,
   "metadata": {},
   "outputs": [
    {
     "name": "stdout",
     "output_type": "stream",
     "text": [
      "Found 7178 unique tokens\n",
      "Maximum text length: 224\n",
      "Shape of data tensor: (1865, 1586)\n",
      "Shape of label tensor: (1865, 2)\n"
     ]
    }
   ],
   "source": [
    "tokenizer = Tokenizer(num_words=MAX_NB_WORDS)\n",
    "tokenizer.fit_on_texts(texts)\n",
    "\n",
    "sequences = tokenizer.texts_to_sequences(texts)\n",
    "\n",
    "word_index = tokenizer.word_index\n",
    "print(f'Found {len(word_index)} unique tokens')\n",
    "print(f'Maximum text length: {max([len(x) for x in sequences])}')\n",
    "\n",
    "data = pad_sequences(sequences, maxlen=MAX_SEQUENCE_LENGTH)\n",
    "labels = to_categorical(np.asarray(df_labels))\n",
    "\n",
    "print('Shape of data tensor:', data.shape)\n",
    "print('Shape of label tensor:', labels.shape)\n",
    "\n",
    "# split the data into a training set and a validation set\n",
    "indices = np.arange(data.shape[0])\n",
    "np.random.shuffle(indices)\n",
    "data = data[indices]\n",
    "labels = labels[indices]\n",
    "nb_validation_samples = int(VALIDATION_SPLIT * data.shape[0])\n",
    "\n",
    "x_train = data[:-nb_validation_samples]\n",
    "y_train = labels[:-nb_validation_samples]\n",
    "x_val = data[-nb_validation_samples:]\n",
    "y_val = labels[-nb_validation_samples:]\n",
    "\n"
   ]
  },
  {
   "cell_type": "code",
   "execution_count": 14,
   "metadata": {},
   "outputs": [
    {
     "name": "stdout",
     "output_type": "stream",
     "text": [
      "684020\n"
     ]
    }
   ],
   "source": [
    "w2v = Word2Vec.load(\"w2v/sus_w2v.model\")\n",
    "print(len(w2v.wv.vocab))"
   ]
  },
  {
   "cell_type": "code",
   "execution_count": 15,
   "metadata": {},
   "outputs": [],
   "source": [
    "embedding_matrix = np.zeros((len(word_index) + 1, w2v.vector_size))\n",
    "for word, i in word_index.items():\n",
    "    try:\n",
    "        embedding_vector = w2v.wv[word]\n",
    "        embedding_matrix[i] = embedding_vector\n",
    "    except:\n",
    "        # word not in embedding index\n",
    "        pass\n",
    "        #print(f'{word} not in index')\n",
    "\n",
    "\n",
    "\n",
    "embedding_layer = Embedding(\n",
    "    len(word_index) + 1,\n",
    "    w2v.vector_size,\n",
    "    weights=[embedding_matrix],\n",
    "    input_length=MAX_SEQUENCE_LENGTH,\n",
    "    trainable=False\n",
    ")"
   ]
  },
  {
   "cell_type": "code",
   "execution_count": 19,
   "metadata": {},
   "outputs": [
    {
     "data": {
      "image/png": "[encoded data removed]",
      "text/plain": [
       "<Figure size 432x288 with 1 Axes>"
      ]
     },
     "metadata": {
      "needs_background": "light"
     },
     "output_type": "display_data"
    }
   ],
   "source": [
    "plt.close()\n",
    "fig, ax = plt.subplots()\n",
    "i = 0\n",
    "for name, group in df.groupby('relevant'):\n",
    "    s = group['id'].size\n",
    "    plt.bar(i, s)\n",
    "    plt.text(i, s + df['id'].size*0.05, \"{:.0%}\".format(s/df['id'].size),ha=\"center\")\n",
    "    i+=1\n",
    "    \n",
    "plt.ylim(0,df['id'].size)\n",
    "#fig.tight_layout()\n",
    "    \n",
    "plt.show()"
   ]
  },
  {
   "cell_type": "markdown",
   "metadata": {},
   "source": [
    "## Convolutional Neural Net"
   ]
  },
  {
   "cell_type": "code",
   "execution_count": 16,
   "metadata": {},
   "outputs": [
    {
     "name": "stdout",
     "output_type": "stream",
     "text": [
      "Train on 1399 samples, validate on 466 samples\n",
      "Epoch 1/10\n",
      "1399/1399 [==============================] - 19s 14ms/step - loss: 0.6877 - acc: 0.7341 - val_loss: 0.6843 - val_acc: 0.7468\n",
      "Epoch 2/10\n",
      "1399/1399 [==============================] - 20s 14ms/step - loss: 0.6799 - acc: 0.7841 - val_loss: 0.6787 - val_acc: 0.7468\n",
      "Epoch 3/10\n",
      "1399/1399 [==============================] - 23s 17ms/step - loss: 0.6737 - acc: 0.7841 - val_loss: 0.6736 - val_acc: 0.7468\n",
      "Epoch 4/10\n",
      "1399/1399 [==============================] - 74s 53ms/step - loss: 0.6681 - acc: 0.7841 - val_loss: 0.6689 - val_acc: 0.7468\n",
      "Epoch 5/10\n",
      "1399/1399 [==============================] - 32s 23ms/step - loss: 0.6625 - acc: 0.7841 - val_loss: 0.6641 - val_acc: 0.7468\n",
      "Epoch 6/10\n",
      "1399/1399 [==============================] - 25s 18ms/step - loss: 0.6570 - acc: 0.7841 - val_loss: 0.6596 - val_acc: 0.7468\n",
      "Epoch 7/10\n",
      "1399/1399 [==============================] - 23s 16ms/step - loss: 0.6517 - acc: 0.7841 - val_loss: 0.6552 - val_acc: 0.7468\n",
      "Epoch 8/10\n",
      "1399/1399 [==============================] - 21s 15ms/step - loss: 0.6465 - acc: 0.7841 - val_loss: 0.6507 - val_acc: 0.7468\n",
      "Epoch 9/10\n",
      "1399/1399 [==============================] - 22s 15ms/step - loss: 0.6414 - acc: 0.7841 - val_loss: 0.6466 - val_acc: 0.7468\n",
      "Epoch 10/10\n",
      "1399/1399 [==============================] - 22s 16ms/step - loss: 0.6365 - acc: 0.7841 - val_loss: 0.6425 - val_acc: 0.7468\n"
     ]
    }
   ],
   "source": [
    "sequence_input = Input(shape=(MAX_SEQUENCE_LENGTH,), dtype='int32')\n",
    "embedded_sequences = embedding_layer(sequence_input)\n",
    "\n",
    "x = Conv1D(128, 5, activation='relu')(embedded_sequences)\n",
    "x = MaxPooling1D(5)(x)\n",
    "x = Conv1D(128, 5, activation='relu')(x)\n",
    "x = MaxPooling1D(5)(x)\n",
    "x = Conv1D(128, 5, activation='relu')(x)\n",
    "x = MaxPooling1D(35)(x)  # global max pooling\n",
    "x = Flatten()(x)\n",
    "x = Dense(128, activation='relu')(x)\n",
    "preds = Dense(2, activation='softmax')(x)\n",
    "\n",
    "model = Model(sequence_input, preds)\n",
    "model.compile(loss='categorical_crossentropy',\n",
    "              optimizer='rmsprop',\n",
    "              metrics=['acc'])\n",
    "\n",
    "# happy learning!\n",
    "history = model.fit(x_train, y_train, validation_data=(x_val, y_val),\n",
    "          epochs=10, batch_size=128)"
   ]
  },
  {
   "cell_type": "code",
   "execution_count": null,
   "metadata": {},
   "outputs": [],
   "source": []
  },
  {
   "cell_type": "code",
   "execution_count": 121,
   "metadata": {},
   "outputs": [
    {
     "data": {
      "image/png": "[encoded data removed]",
      "text/plain": [
       "<Figure size 432x288 with 1 Axes>"
      ]
     },
     "metadata": {
      "needs_background": "light"
     },
     "output_type": "display_data"
    }
   ],
   "source": [
    "history_dict = history.history\n",
    "history_dict.keys()\n",
    "\n",
    "import matplotlib.pyplot as plt\n",
    "\n",
    "acc = history.history['acc']\n",
    "val_acc = history.history['val_acc']\n",
    "loss = history.history['loss']\n",
    "val_loss = history.history['val_loss']\n",
    "\n",
    "epochs = range(1, len(acc) + 1)\n",
    "\n",
    "\n",
    "plt.clf()   # clear figure\n",
    "acc_values = history_dict['acc']\n",
    "val_acc_values = history_dict['val_acc']\n",
    "\n",
    "plt.plot(epochs, acc, 'bo', label='Training acc')\n",
    "plt.plot(epochs, val_acc, 'b', label='Validation acc')\n",
    "plt.title('Training and validation accuracy')\n",
    "plt.xlabel('Epochs')\n",
    "plt.ylabel('Accuracy')\n",
    "plt.legend()\n",
    "\n",
    "plt.show()"
   ]
  },
  {
   "cell_type": "markdown",
   "metadata": {},
   "source": [
    "## Recurrent neural network"
   ]
  },
  {
   "cell_type": "code",
   "execution_count": 20,
   "metadata": {},
   "outputs": [
    {
     "name": "stdout",
     "output_type": "stream",
     "text": [
      "_________________________________________________________________\n",
      "Layer (type)                 Output Shape              Param #   \n",
      "=================================================================\n",
      "input_2 (InputLayer)         (None, 1586)              0         \n",
      "_________________________________________________________________\n",
      "embedding_1 (Embedding)      (None, 1586, 300)         2153700   \n",
      "_________________________________________________________________\n",
      "lstm_1 (LSTM)                (None, 64)                93440     \n",
      "_________________________________________________________________\n",
      "FC1 (Dense)                  (None, 256)               16640     \n",
      "_________________________________________________________________\n",
      "activation_1 (Activation)    (None, 256)               0         \n",
      "_________________________________________________________________\n",
      "dropout_1 (Dropout)          (None, 256)               0         \n",
      "_________________________________________________________________\n",
      "out_layer (Dense)            (None, 2)                 514       \n",
      "_________________________________________________________________\n",
      "activation_2 (Activation)    (None, 2)                 0         \n",
      "=================================================================\n",
      "Total params: 2,264,294\n",
      "Trainable params: 110,594\n",
      "Non-trainable params: 2,153,700\n",
      "_________________________________________________________________\n",
      "Train on 1399 samples, validate on 466 samples\n",
      "Epoch 1/10\n",
      "1399/1399 [==============================] - 21s 15ms/step - loss: 0.5106 - acc: 0.7684 - val_loss: 0.4773 - val_acc: 0.7575\n",
      "Epoch 2/10\n",
      "1399/1399 [==============================] - 21s 15ms/step - loss: 0.3903 - acc: 0.8292 - val_loss: 0.3868 - val_acc: 0.8412\n",
      "Epoch 3/10\n",
      "1399/1399 [==============================] - 68s 49ms/step - loss: 0.3436 - acc: 0.8595 - val_loss: 0.3623 - val_acc: 0.8498\n",
      "Epoch 4/10\n",
      "1399/1399 [==============================] - 34s 24ms/step - loss: 0.2879 - acc: 0.8842 - val_loss: 0.3489 - val_acc: 0.8476\n",
      "Epoch 5/10\n",
      "1399/1399 [==============================] - 27s 19ms/step - loss: 0.2625 - acc: 0.9028 - val_loss: 0.3600 - val_acc: 0.8552\n",
      "Epoch 6/10\n",
      "1399/1399 [==============================] - 24s 17ms/step - loss: 0.2148 - acc: 0.9157 - val_loss: 0.3393 - val_acc: 0.8476\n",
      "Epoch 7/10\n",
      "1399/1399 [==============================] - 23s 16ms/step - loss: 0.1803 - acc: 0.9371 - val_loss: 0.3700 - val_acc: 0.8562\n",
      "Epoch 8/10\n",
      "1399/1399 [==============================] - 21s 15ms/step - loss: 0.1489 - acc: 0.9492 - val_loss: 0.3619 - val_acc: 0.8466\n",
      "Epoch 9/10\n",
      "1399/1399 [==============================] - 22s 16ms/step - loss: 0.1208 - acc: 0.9614 - val_loss: 0.5923 - val_acc: 0.8433\n",
      "Epoch 10/10\n",
      "1399/1399 [==============================] - 24s 17ms/step - loss: 0.0861 - acc: 0.9732 - val_loss: 0.6459 - val_acc: 0.8283\n"
     ]
    }
   ],
   "source": [
    "def RNN():\n",
    "    sequence_input = Input(shape=(MAX_SEQUENCE_LENGTH,), dtype='int32')\n",
    "    embedded_sequences = embedding_layer(sequence_input)\n",
    "    layer = LSTM(64)(embedded_sequences)\n",
    "    layer = Dense(256,name='FC1')(layer)\n",
    "    layer = Activation('relu')(layer)\n",
    "    layer = Dropout(0.5)(layer)\n",
    "    layer = Dense(2,name='out_layer')(layer)\n",
    "    layer = Activation('sigmoid')(layer)\n",
    "    model = Model(inputs=sequence_input,outputs=layer)\n",
    "    return model\n",
    "\n",
    "model = RNN()\n",
    "model.summary()\n",
    "model.compile(loss='binary_crossentropy',optimizer=RMSprop(),metrics=['accuracy'])\n",
    "\n",
    "# happy learning!\n",
    "history = model.fit(x_train, y_train, validation_data=(x_val, y_val),\n",
    "          epochs=10, batch_size=128)"
   ]
  },
  {
   "cell_type": "code",
   "execution_count": null,
   "metadata": {},
   "outputs": [],
   "source": []
  }
 ],
 "metadata": {
  "kernelspec": {
   "display_name": "Python 3",
   "language": "python",
   "name": "python3"
  },
  "language_info": {
   "codemirror_mode": {
    "name": "ipython",
    "version": 3
   },
   "file_extension": ".py",
   "mimetype": "text/x-python",
   "name": "python",
   "nbconvert_exporter": "python",
   "pygments_lexer": "ipython3",
   "version": "3.6.7"
  }
 },
 "nbformat": 4,
 "nbformat_minor": 2
}
