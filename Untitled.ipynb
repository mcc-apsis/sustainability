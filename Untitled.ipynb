{
 "cells": [
  {
   "cell_type": "code",
   "execution_count": 1,
   "metadata": {
    "collapsed": true
   },
   "outputs": [],
   "source": [
    "import django, sys, os\n",
    "import numpy as np\n",
    "import pandas as pd\n",
    "\n",
    "sys.path.append('/home/galm/software/django/tmv/BasicBrowser/')\n",
    "os.environ.setdefault(\"DJANGO_SETTINGS_MODULE\", \"BasicBrowser.settings\")\n",
    "django.setup()\n",
    "from django.db.models import Q, F, Sum, Count, FloatField, Case, When, Value, Max\n",
    "from scipy.sparse import coo_matrix, find\n",
    "from sklearn.manifold import TSNE\n",
    "\n",
    "from scoping.models import *\n",
    "from tmv_app.models import *\n",
    "\n",
    "run_id = 665"
   ]
  },
  {
   "cell_type": "code",
   "execution_count": null,
   "metadata": {
    "collapsed": true
   },
   "outputs": [],
   "source": [
    "df = pd.read_csv('docs.csv').sample(frac=1).reset_index(drop=True)\n",
    "df['date'] = df['rated'].apply(lambda x: datetime.datetime.strptime(x[:19],\"%Y-%m-%d %H:%M:%S\"))\n",
    "df = df[df['date'] > datetime.datetime(2018,6,1,0,0,0)].reset_index(drop=True)\n",
    "print(df.shape)\n",
    "y = df['relevant']\n",
    "df.head()"
   ]
  },
  {
   "cell_type": "code",
   "execution_count": null,
   "metadata": {
    "collapsed": true
   },
   "outputs": [],
   "source": [
    "q = Query.objects.get(pk=1457)\n",
    "\n",
    "rated_docs = DocOwnership.objects.filter(tag__query=1457).values_list('doc__id',flat=True)\n",
    "\n",
    "ratings = list(Doc.objects.filter(id__in=rated_docs,content__iregex='\\w').values(*columns))\n",
    "for r in ratings:\n",
    "    d = Doc.objects.get(pk=r['id'])\n",
    "    dos = DocOwnership.objects.filter(query=q,doc=d,relevant__gt=0)\n",
    "    if dos.count() == 1:\n",
    "        r['tag'] = dos.first().tag_id\n",
    "        r['relevant'] = dos.first().relevant\n",
    "        r['rated'] = dos.first().date\n",
    "    elif dos.count() > 1:\n",
    "        r['tag'] = dos.first().tag_id\n",
    "        if dos.filter(relevant=1).count()>0:\n",
    "            r['relevant'] = 1\n",
    "            r['rated'] = dos.first().date\n",
    "        else:\n",
    "            r['relevant'] = dos.order_by('relevant').first().relevant\n",
    "            r['rated'] = dos.first().date\n",
    "    else:\n",
    "        r['tag'] = \"\"\n",
    "        r['relevant'] = 8\n",
    "        r['rated'] = \"\"\n",
    "        \n",
    "df = pd.DataFrame.from_dict(ratings)\n",
    "\n",
    "df = df[df['relevant'].isin([1,2])]\n",
    "\n",
    "df['relevant'][df['relevant']==2] = 0\n",
    "\n",
    "df = df.reset_index(drop=True)\n",
    "\n",
    "df.head()"
   ]
  }
 ],
 "metadata": {
  "kernelspec": {
   "display_name": "tmvenv_36",
   "language": "python",
   "name": "tmvenv_36"
  },
  "language_info": {
   "codemirror_mode": {
    "name": "ipython",
    "version": 3
   },
   "file_extension": ".py",
   "mimetype": "text/x-python",
   "name": "python",
   "nbconvert_exporter": "python",
   "pygments_lexer": "ipython3",
   "version": "3.6.6"
  }
 },
 "nbformat": 4,
 "nbformat_minor": 2
}
