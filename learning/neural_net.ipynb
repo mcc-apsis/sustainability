{
 "cells": [
  {
   "cell_type": "code",
   "execution_count": 1,
   "metadata": {
    "collapsed": false,
    "deletable": true,
    "editable": true
   },
   "outputs": [
    {
     "name": "stderr",
     "output_type": "stream",
     "text": [
      "Using TensorFlow backend.\n"
     ]
    }
   ],
   "source": [
    "import pandas as pd\n",
    "from numpy import array\n",
    "import datetime\n",
    "from keras.preprocessing.text import one_hot\n",
    "from keras.preprocessing.sequence import pad_sequences\n",
    "from keras.models import Sequential\n",
    "from keras.layers import LSTM\n",
    "from keras.layers import Dense\n",
    "from keras.layers import Flatten\n",
    "from keras.layers.embeddings import Embedding\n",
    "# define documents\n"
   ]
  },
  {
   "cell_type": "code",
   "execution_count": 2,
   "metadata": {
    "collapsed": false,
    "deletable": true,
    "editable": true
   },
   "outputs": [
    {
     "name": "stdout",
     "output_type": "stream",
     "text": [
      "[[11, 41], [46, 24], [40, 45], [4, 24], [8], [23], [8, 45], [26, 46], [8, 24], [13, 28, 41, 25]]\n",
      "[[11 41  0  0]\n",
      " [46 24  0  0]\n",
      " [40 45  0  0]\n",
      " [ 4 24  0  0]\n",
      " [ 8  0  0  0]\n",
      " [23  0  0  0]\n",
      " [ 8 45  0  0]\n",
      " [26 46  0  0]\n",
      " [ 8 24  0  0]\n",
      " [13 28 41 25]]\n",
      "_________________________________________________________________\n",
      "Layer (type)                 Output Shape              Param #   \n",
      "=================================================================\n",
      "embedding_1 (Embedding)      (None, 4, 8)              400       \n",
      "_________________________________________________________________\n",
      "flatten_1 (Flatten)          (None, 32)                0         \n",
      "_________________________________________________________________\n",
      "dense_1 (Dense)              (None, 1)                 33        \n",
      "=================================================================\n",
      "Total params: 433\n",
      "Trainable params: 433\n",
      "Non-trainable params: 0\n",
      "_________________________________________________________________\n",
      "None\n",
      "Accuracy: 70.00%\n"
     ]
    }
   ],
   "source": [
    "docs = ['Well done!',\n",
    "\t\t'Good work',\n",
    "\t\t'Great effort',\n",
    "\t\t'nice work',\n",
    "\t\t'Excellent!',\n",
    "\t\t'Weak',\n",
    "\t\t'Poor effort!',\n",
    "\t\t'not good',\n",
    "\t\t'poor work',\n",
    "\t\t'Could have done better.']\n",
    "# define class labels\n",
    "labels = array([1,1,1,1,1,0,0,0,0,0])\n",
    "# integer encode the documents\n",
    "vocab_size = 50\n",
    "encoded_docs = [one_hot(d, vocab_size) for d in docs]\n",
    "print(encoded_docs)\n",
    "# pad documents to a max length of 4 words\n",
    "max_length = 4\n",
    "padded_docs = pad_sequences(encoded_docs, maxlen=max_length, padding='post')\n",
    "print(padded_docs)\n",
    "# define the model\n",
    "model = Sequential()\n",
    "model.add(Embedding(vocab_size, 8, input_length=max_length))\n",
    "model.add(Flatten())\n",
    "model.add(Dense(1, activation='sigmoid'))\n",
    "# compile the model\n",
    "model.compile(optimizer='adam', loss='binary_crossentropy', metrics=['acc'])\n",
    "# summarize the model\n",
    "print(model.summary())\n",
    "# fit the model\n",
    "model.fit(padded_docs, labels, epochs=50, verbose=0)\n",
    "# evaluate the model\n",
    "loss, accuracy = model.evaluate(padded_docs, labels, verbose=0)\n",
    "print('Accuracy: {:.2%}'.format(accuracy))"
   ]
  },
  {
   "cell_type": "code",
   "execution_count": 3,
   "metadata": {
    "collapsed": false,
    "deletable": true,
    "editable": true
   },
   "outputs": [
    {
     "name": "stdout",
     "output_type": "stream",
     "text": [
      "(1984, 13)\n"
     ]
    },
    {
     "data": {
      "text/html": [
       "<div>\n",
       "<table border=\"1\" class=\"dataframe\">\n",
       "  <thead>\n",
       "    <tr style=\"text-align: right;\">\n",
       "      <th></th>\n",
       "      <th>Unnamed: 0</th>\n",
       "      <th>UT_id</th>\n",
       "      <th>authors</th>\n",
       "      <th>content</th>\n",
       "      <th>first_author</th>\n",
       "      <th>id</th>\n",
       "      <th>rated</th>\n",
       "      <th>relevant</th>\n",
       "      <th>tag</th>\n",
       "      <th>title</th>\n",
       "      <th>wosarticle__de</th>\n",
       "      <th>wosarticle__wc</th>\n",
       "      <th>date</th>\n",
       "    </tr>\n",
       "  </thead>\n",
       "  <tbody>\n",
       "    <tr>\n",
       "      <th>0</th>\n",
       "      <td>1035</td>\n",
       "      <td>WOS:000375886300018</td>\n",
       "      <td>Chaudhary, A, Kastner, T</td>\n",
       "      <td>Agricultural land use to meet the demands of a...</td>\n",
       "      <td>Chaudhary, A</td>\n",
       "      <td>670243</td>\n",
       "      <td>2018-09-21 04:09:24.402668+00:00</td>\n",
       "      <td>1</td>\n",
       "      <td>753</td>\n",
       "      <td>Land use biodiversity impacts embodied in inte...</td>\n",
       "      <td>Biodiversity; Agriculture; Global trade; Land ...</td>\n",
       "      <td>['Environmental Sciences; Environmental Studie...</td>\n",
       "      <td>2018-09-21 04:09:24</td>\n",
       "    </tr>\n",
       "    <tr>\n",
       "      <th>1</th>\n",
       "      <td>2316</td>\n",
       "      <td>WOS:000281997700017</td>\n",
       "      <td>Clarke, ND</td>\n",
       "      <td>The conversion of biomass to fuels and chemica...</td>\n",
       "      <td>Clarke, ND</td>\n",
       "      <td>323017</td>\n",
       "      <td>2018-09-19 16:14:09.968943+00:00</td>\n",
       "      <td>1</td>\n",
       "      <td>753</td>\n",
       "      <td>Protein engineering for bioenergy and biomass-...</td>\n",
       "      <td>NaN</td>\n",
       "      <td>['Biochemistry &amp; Molecular Biology; Cell Biolo...</td>\n",
       "      <td>2018-09-19 16:14:09</td>\n",
       "    </tr>\n",
       "    <tr>\n",
       "      <th>2</th>\n",
       "      <td>2605</td>\n",
       "      <td>WOS:000353755000040</td>\n",
       "      <td>Gliedt, T, Hoicka, CE</td>\n",
       "      <td>Due to its significant carbon footprint and co...</td>\n",
       "      <td>Gliedt, T</td>\n",
       "      <td>739751</td>\n",
       "      <td>2018-09-21 15:49:19.018006+00:00</td>\n",
       "      <td>1</td>\n",
       "      <td>760</td>\n",
       "      <td>Energy upgrades as financial or strategic inve...</td>\n",
       "      <td>Energy Star; Energy efficiency and management;...</td>\n",
       "      <td>['Energy &amp; Fuels; Engineering, Chemical']</td>\n",
       "      <td>2018-09-21 15:49:19</td>\n",
       "    </tr>\n",
       "    <tr>\n",
       "      <th>3</th>\n",
       "      <td>116</td>\n",
       "      <td>WOS:000347763100022</td>\n",
       "      <td>Jaafari, A, Najafi, A, Najafi, A, Melon, MG</td>\n",
       "      <td>The importance of environmental and economical...</td>\n",
       "      <td>Jaafari, A</td>\n",
       "      <td>87897</td>\n",
       "      <td>2018-09-19 14:17:12.960442+00:00</td>\n",
       "      <td>1</td>\n",
       "      <td>753</td>\n",
       "      <td>Decision-making for the selection of a best wo...</td>\n",
       "      <td>ANP; BOCR; Caspian Forest; Forest harvesting; ...</td>\n",
       "      <td>['Forestry']</td>\n",
       "      <td>2018-09-19 14:17:12</td>\n",
       "    </tr>\n",
       "    <tr>\n",
       "      <th>4</th>\n",
       "      <td>1887</td>\n",
       "      <td>WOS:000364520700001</td>\n",
       "      <td>Schutte, SA</td>\n",
       "      <td>Indonesia has been struggling to reform its co...</td>\n",
       "      <td>Schutte, SA</td>\n",
       "      <td>316218</td>\n",
       "      <td>2018-09-20 11:55:53.263925+00:00</td>\n",
       "      <td>0</td>\n",
       "      <td>760</td>\n",
       "      <td>Keeping the New Broom Clean Lessons in Human R...</td>\n",
       "      <td>civil service reform; Indonesia; anti-corrupti...</td>\n",
       "      <td>['Anthropology; Asian Studies']</td>\n",
       "      <td>2018-09-20 11:55:53</td>\n",
       "    </tr>\n",
       "  </tbody>\n",
       "</table>\n",
       "</div>"
      ],
      "text/plain": [
       "   Unnamed: 0                UT_id  \\\n",
       "0        1035  WOS:000375886300018   \n",
       "1        2316  WOS:000281997700017   \n",
       "2        2605  WOS:000353755000040   \n",
       "3         116  WOS:000347763100022   \n",
       "4        1887  WOS:000364520700001   \n",
       "\n",
       "                                       authors  \\\n",
       "0                     Chaudhary, A, Kastner, T   \n",
       "1                                   Clarke, ND   \n",
       "2                        Gliedt, T, Hoicka, CE   \n",
       "3  Jaafari, A, Najafi, A, Najafi, A, Melon, MG   \n",
       "4                                  Schutte, SA   \n",
       "\n",
       "                                             content  first_author      id  \\\n",
       "0  Agricultural land use to meet the demands of a...  Chaudhary, A  670243   \n",
       "1  The conversion of biomass to fuels and chemica...    Clarke, ND  323017   \n",
       "2  Due to its significant carbon footprint and co...     Gliedt, T  739751   \n",
       "3  The importance of environmental and economical...    Jaafari, A   87897   \n",
       "4  Indonesia has been struggling to reform its co...   Schutte, SA  316218   \n",
       "\n",
       "                              rated  relevant  tag  \\\n",
       "0  2018-09-21 04:09:24.402668+00:00         1  753   \n",
       "1  2018-09-19 16:14:09.968943+00:00         1  753   \n",
       "2  2018-09-21 15:49:19.018006+00:00         1  760   \n",
       "3  2018-09-19 14:17:12.960442+00:00         1  753   \n",
       "4  2018-09-20 11:55:53.263925+00:00         0  760   \n",
       "\n",
       "                                               title  \\\n",
       "0  Land use biodiversity impacts embodied in inte...   \n",
       "1  Protein engineering for bioenergy and biomass-...   \n",
       "2  Energy upgrades as financial or strategic inve...   \n",
       "3  Decision-making for the selection of a best wo...   \n",
       "4  Keeping the New Broom Clean Lessons in Human R...   \n",
       "\n",
       "                                      wosarticle__de  \\\n",
       "0  Biodiversity; Agriculture; Global trade; Land ...   \n",
       "1                                                NaN   \n",
       "2  Energy Star; Energy efficiency and management;...   \n",
       "3  ANP; BOCR; Caspian Forest; Forest harvesting; ...   \n",
       "4  civil service reform; Indonesia; anti-corrupti...   \n",
       "\n",
       "                                      wosarticle__wc                date  \n",
       "0  ['Environmental Sciences; Environmental Studie... 2018-09-21 04:09:24  \n",
       "1  ['Biochemistry & Molecular Biology; Cell Biolo... 2018-09-19 16:14:09  \n",
       "2          ['Energy & Fuels; Engineering, Chemical'] 2018-09-21 15:49:19  \n",
       "3                                       ['Forestry'] 2018-09-19 14:17:12  \n",
       "4                    ['Anthropology; Asian Studies'] 2018-09-20 11:55:53  "
      ]
     },
     "execution_count": 3,
     "metadata": {},
     "output_type": "execute_result"
    }
   ],
   "source": [
    "df = pd.read_csv('docs.csv').sample(frac=1).reset_index(drop=True)\n",
    "df['date'] = df['rated'].apply(lambda x: datetime.datetime.strptime(x[:19],\"%Y-%m-%d %H:%M:%S\"))\n",
    "df = df[df['date'] > datetime.datetime(2018,6,1,0,0,0)].reset_index(drop=True)\n",
    "print(df.shape)\n",
    "y = df['relevant']\n",
    "df.head()"
   ]
  },
  {
   "cell_type": "code",
   "execution_count": 9,
   "metadata": {
    "collapsed": false,
    "deletable": true,
    "editable": true
   },
   "outputs": [
    {
     "name": "stdout",
     "output_type": "stream",
     "text": [
      "_________________________________________________________________\n",
      "Layer (type)                 Output Shape              Param #   \n",
      "=================================================================\n",
      "embedding_5 (Embedding)      (None, 500, 100)          1500000   \n",
      "_________________________________________________________________\n",
      "flatten_4 (Flatten)          (None, 50000)             0         \n",
      "_________________________________________________________________\n",
      "dense_5 (Dense)              (None, 1)                 50001     \n",
      "=================================================================\n",
      "Total params: 1,550,001\n",
      "Trainable params: 1,550,001\n",
      "Non-trainable params: 0\n",
      "_________________________________________________________________\n",
      "None\n",
      "Accuracy: 100.00%\n"
     ]
    }
   ],
   "source": [
    "docs = array(df['content'])\n",
    "labels = array(df['relevant'])\n",
    "\n",
    "vocab_size = 15000\n",
    "encoded_docs = [one_hot(d, vocab_size) for d in docs]\n",
    "\n",
    "# pad documents to a max length of 500 words\n",
    "max_length = 500\n",
    "padded_docs = pad_sequences(encoded_docs, maxlen=max_length, padding='post')\n",
    "\n",
    "# define the model\n",
    "model = Sequential()\n",
    "model.add(Embedding(vocab_size, 100, input_length=max_length))\n",
    "model.add(Flatten())\n",
    "model.add(Dense(1, activation='sigmoid'))\n",
    "# compile the model\n",
    "model.compile(optimizer='adam', loss='binary_crossentropy', metrics=['acc'])\n",
    "# summarize the model\n",
    "print(model.summary())\n",
    "# fit the model\n",
    "model.fit(padded_docs, labels, epochs=50, verbose=0)\n",
    "# evaluate the model\n",
    "loss, accuracy = model.evaluate(padded_docs, labels, verbose=0)\n",
    "print('Accuracy: {:.2%}'.format(accuracy))"
   ]
  },
  {
   "cell_type": "code",
   "execution_count": 5,
   "metadata": {
    "collapsed": false,
    "deletable": true,
    "editable": true
   },
   "outputs": [
    {
     "data": {
      "text/plain": [
       "1488"
      ]
     },
     "execution_count": 5,
     "metadata": {},
     "output_type": "execute_result"
    }
   ],
   "source": [
    "docs = array(df['content'])\n",
    "labels = array(df['relevant'])\n",
    "\n",
    "vocab_size = 10000\n",
    "encoded_docs = [one_hot(d, vocab_size) for d in docs]\n",
    "\n",
    "# pad documents to a max length of 4 words\n",
    "max_length = 500\n",
    "padded_docs = pad_sequences(encoded_docs, maxlen=max_length, padding='post')\n",
    "\n",
    "\n",
    "import numpy as np\n",
    "import sklearn.model_selection\n",
    "X_train, X_test, y_train, y_test = \\\n",
    "        sklearn.model_selection.train_test_split(padded_docs, labels, random_state=1)\n",
    "\n",
    "len(X_train)\n",
    "\n"
   ]
  },
  {
   "cell_type": "code",
   "execution_count": 6,
   "metadata": {
    "collapsed": false,
    "deletable": true,
    "editable": true
   },
   "outputs": [
    {
     "data": {
      "text/plain": [
       "(1488, 500)"
      ]
     },
     "execution_count": 6,
     "metadata": {},
     "output_type": "execute_result"
    }
   ],
   "source": [
    "X_train.shape"
   ]
  },
  {
   "cell_type": "code",
   "execution_count": 13,
   "metadata": {},
   "outputs": [
    {
     "name": "stdout",
     "output_type": "stream",
     "text": [
      "_________________________________________________________________\n",
      "Layer (type)                 Output Shape              Param #   \n",
      "=================================================================\n",
      "embedding_9 (Embedding)      (None, 500, 300)          3000000   \n",
      "_________________________________________________________________\n",
      "flatten_8 (Flatten)          (None, 150000)            0         \n",
      "_________________________________________________________________\n",
      "dense_13 (Dense)             (None, 16)                2400016   \n",
      "_________________________________________________________________\n",
      "dense_14 (Dense)             (None, 1)                 17        \n",
      "=================================================================\n",
      "Total params: 5,400,033\n",
      "Trainable params: 5,400,033\n",
      "Non-trainable params: 0\n",
      "_________________________________________________________________\n",
      "None\n",
      "Accuracy: 84.27%\n"
     ]
    }
   ],
   "source": [
    "# define the model\n",
    "model = Sequential()\n",
    "model.add(Embedding(vocab_size, 300, input_length=max_length))\n",
    "model.add(Flatten())\n",
    "model.add(Dense(16, input_dim=200, activation='relu'))\n",
    "model.add(Dense(1, activation='sigmoid'))\n",
    "# compile the model\n",
    "model.compile(optimizer='adam', loss='binary_crossentropy', metrics=['acc'])\n",
    "# summarize the model\n",
    "print(model.summary())\n",
    "# fit the model\n",
    "history = model.fit(X_train, y_train, epochs=50, verbose=0,validation_data=(X_test, y_test))\n",
    "# evaluate the model\n",
    "loss, accuracy = model.evaluate(X_test, y_test, verbose=0)\n",
    "print('Accuracy: {:.2%}'.format(accuracy))"
   ]
  },
  {
   "cell_type": "code",
   "execution_count": 17,
   "metadata": {},
   "outputs": [
    {
     "data": {
      "image/png": "[encoded data removed]",
      "text/plain": [
       "<Figure size 432x288 with 1 Axes>"
      ]
     },
     "metadata": {},
     "output_type": "display_data"
    }
   ],
   "source": [
    "history_dict = history.history\n",
    "history_dict.keys()\n",
    "\n",
    "import matplotlib.pyplot as plt\n",
    "\n",
    "acc = history.history['acc']\n",
    "val_acc = history.history['val_acc']\n",
    "loss = history.history['loss']\n",
    "val_loss = history.history['val_loss']\n",
    "\n",
    "epochs = range(1, len(acc) + 1)\n",
    "\n",
    "\n",
    "plt.clf()   # clear figure\n",
    "acc_values = history_dict['acc']\n",
    "val_acc_values = history_dict['val_acc']\n",
    "\n",
    "plt.plot(epochs, acc, 'bo', label='Training acc')\n",
    "plt.plot(epochs, val_acc, 'b', label='Validation acc')\n",
    "plt.title('Training and validation accuracy')\n",
    "plt.xlabel('Epochs')\n",
    "plt.ylabel('Accuracy')\n",
    "plt.legend()\n",
    "\n",
    "plt.show()\n",
    "\n",
    "\n"
   ]
  },
  {
   "cell_type": "code",
   "execution_count": 8,
   "metadata": {},
   "outputs": [
    {
     "name": "stdout",
     "output_type": "stream",
     "text": [
      "_________________________________________________________________\n",
      "Layer (type)                 Output Shape              Param #   \n",
      "=================================================================\n",
      "embedding_4 (Embedding)      (None, 500, 300)          3000000   \n",
      "_________________________________________________________________\n",
      "lstm_1 (LSTM)                (None, 100)               160400    \n",
      "_________________________________________________________________\n",
      "dense_4 (Dense)              (None, 1)                 101       \n",
      "=================================================================\n",
      "Total params: 3,160,501\n",
      "Trainable params: 3,160,501\n",
      "Non-trainable params: 0\n",
      "_________________________________________________________________\n",
      "None\n",
      "Accuracy: 79.03%\n"
     ]
    }
   ],
   "source": [
    "model = Sequential() \n",
    "model.add(Embedding(vocab_size, 300, input_length=max_length)) \n",
    "model.add(LSTM(100)) \n",
    "model.add(Dense(1, activation='sigmoid')) \n",
    "model.compile(loss='binary_crossentropy',optimizer='adam', metrics=['accuracy']) \n",
    "\n",
    "print(model.summary())\n",
    "# fit the model\n",
    "model.fit(X_train, y_train, epochs=50, verbose=0)\n",
    "# evaluate the model\n",
    "loss, accuracy = model.evaluate(X_test, y_test, verbose=0)\n",
    "print('Accuracy: {:.2%}'.format(accuracy))"
   ]
  },
  {
   "cell_type": "code",
   "execution_count": 35,
   "metadata": {},
   "outputs": [],
   "source": [
    "import pandas as pd\n",
    "import numpy as np\n",
    "import matplotlib.pyplot as plt\n",
    "\n",
    "from sklearn.model_selection import train_test_split\n",
    "from sklearn.preprocessing import LabelEncoder\n",
    "from keras.models import Model\n",
    "from keras.layers import LSTM, Activation, Dense, Dropout, Input, Embedding\n",
    "from keras.optimizers import RMSprop\n",
    "from keras.preprocessing.text import Tokenizer\n",
    "from keras.preprocessing import sequence\n",
    "from keras.utils import to_categorical\n",
    "from keras.callbacks import EarlyStopping\n",
    "\n",
    "def RNN():\n",
    "    inputs = Input(name='inputs',shape=[max_len])\n",
    "    layer = Embedding(max_words,200,input_length=max_len)(inputs)\n",
    "    layer = LSTM(64)(layer)\n",
    "    layer = Dense(256,name='FC1')(layer)\n",
    "    layer = Activation('relu')(layer)\n",
    "    layer = Dropout(0.5)(layer)\n",
    "    layer = Dense(1,name='out_layer')(layer)\n",
    "    layer = Activation('sigmoid')(layer)\n",
    "    model = Model(inputs=inputs,outputs=layer)\n",
    "    return model\n",
    "\n",
    "X_train, X_test, y_train, y_test = \\\n",
    "        sklearn.model_selection.train_test_split(df['content'], df['relevant'], random_state=1)\n",
    "\n",
    "max_words = 50000\n",
    "max_len = 1047\n",
    "tok = Tokenizer(num_words=max_words)\n",
    "tok.fit_on_texts(X_train)\n",
    "sequences = tok.texts_to_sequences(X_train)\n",
    "sequences_matrix = sequence.pad_sequences(sequences,maxlen=max_len)\n"
   ]
  },
  {
   "cell_type": "code",
   "execution_count": 36,
   "metadata": {},
   "outputs": [
    {
     "data": {
      "text/plain": [
       "1047"
      ]
     },
     "execution_count": 36,
     "metadata": {},
     "output_type": "execute_result"
    }
   ],
   "source": [
    "lens = max([len(x.split()) for x in list(df['content'])])\n",
    "lens"
   ]
  },
  {
   "cell_type": "code",
   "execution_count": 42,
   "metadata": {},
   "outputs": [
    {
     "name": "stdout",
     "output_type": "stream",
     "text": [
      "_________________________________________________________________\n",
      "Layer (type)                 Output Shape              Param #   \n",
      "=================================================================\n",
      "inputs (InputLayer)          (None, 1047)              0         \n",
      "_________________________________________________________________\n",
      "embedding_17 (Embedding)     (None, 1047, 200)         10000000  \n",
      "_________________________________________________________________\n",
      "lstm_9 (LSTM)                (None, 64)                67840     \n",
      "_________________________________________________________________\n",
      "FC1 (Dense)                  (None, 256)               16640     \n",
      "_________________________________________________________________\n",
      "activation_15 (Activation)   (None, 256)               0         \n",
      "_________________________________________________________________\n",
      "dropout_8 (Dropout)          (None, 256)               0         \n",
      "_________________________________________________________________\n",
      "out_layer (Dense)            (None, 1)                 257       \n",
      "_________________________________________________________________\n",
      "activation_16 (Activation)   (None, 1)                 0         \n",
      "=================================================================\n",
      "Total params: 10,084,737\n",
      "Trainable params: 10,084,737\n",
      "Non-trainable params: 0\n",
      "_________________________________________________________________\n",
      "Epoch 1/10\n",
      "1488/1488 [==============================] - 15s 10ms/step - loss: 0.5717 - acc: 0.7513\n",
      "Epoch 2/10\n",
      "1488/1488 [==============================] - 15s 10ms/step - loss: 0.4425 - acc: 0.7782\n",
      "Epoch 3/10\n",
      "1488/1488 [==============================] - 16s 11ms/step - loss: 0.3020 - acc: 0.8790\n",
      "Epoch 4/10\n",
      "1488/1488 [==============================] - 16s 11ms/step - loss: 0.1260 - acc: 0.9778\n",
      "Epoch 5/10\n",
      "1488/1488 [==============================] - 16s 11ms/step - loss: 0.0409 - acc: 0.9940\n",
      "Epoch 6/10\n",
      "1488/1488 [==============================] - 64s 43ms/step - loss: 0.0122 - acc: 0.9987\n",
      "Epoch 7/10\n",
      "1488/1488 [==============================] - 24s 16ms/step - loss: 0.0060 - acc: 0.9993\n",
      "Epoch 8/10\n",
      "1488/1488 [==============================] - 20s 14ms/step - loss: 9.7741e-04 - acc: 1.0000\n",
      "Epoch 9/10\n",
      "1488/1488 [==============================] - 18s 12ms/step - loss: 2.5021e-04 - acc: 1.0000\n",
      "Epoch 10/10\n",
      "1488/1488 [==============================] - 17s 11ms/step - loss: 1.1826e-04 - acc: 1.0000\n"
     ]
    }
   ],
   "source": [
    "\n",
    "model = RNN()\n",
    "model.summary()\n",
    "model.compile(loss='binary_crossentropy',optimizer=RMSprop(),metrics=['accuracy'])\n",
    "\n",
    "history = model.fit(sequences_matrix,y_train,batch_size=128,epochs=10)\n",
    "          #validation_split=0.2)#,callbacks=[EarlyStopping(monitor='val_loss',min_delta=0.0001)])\n",
    "\n"
   ]
  },
  {
   "cell_type": "code",
   "execution_count": 41,
   "metadata": {},
   "outputs": [
    {
     "data": {
      "image/png": "[encoded data removed]",
      "text/plain": [
       "<Figure size 432x288 with 1 Axes>"
      ]
     },
     "metadata": {},
     "output_type": "display_data"
    },
    {
     "name": "stdout",
     "output_type": "stream",
     "text": [
      "496/496 [==============================] - 2s 4ms/step\n",
      "Test set\n",
      "  Loss: 0.861\n",
      "  Accuracy: 0.845\n"
     ]
    }
   ],
   "source": [
    "history_dict = history.history\n",
    "history_dict.keys()\n",
    "\n",
    "import matplotlib.pyplot as plt\n",
    "\n",
    "acc = history.history['acc']\n",
    "val_acc = history.history['val_acc']\n",
    "loss = history.history['loss']\n",
    "val_loss = history.history['val_loss']\n",
    "\n",
    "epochs = range(1, len(acc) + 1)\n",
    "\n",
    "\n",
    "plt.clf()   # clear figure\n",
    "acc_values = history_dict['acc']\n",
    "val_acc_values = history_dict['val_acc']\n",
    "\n",
    "plt.plot(epochs, acc, 'bo', label='Training acc')\n",
    "plt.plot(epochs, val_acc, 'b', label='Validation acc')\n",
    "plt.title('Training and validation accuracy')\n",
    "plt.xlabel('Epochs')\n",
    "plt.ylabel('Accuracy')\n",
    "plt.legend()\n",
    "\n",
    "plt.show()\n",
    "\n",
    "test_sequences = tok.texts_to_sequences(X_test)\n",
    "test_sequences_matrix = sequence.pad_sequences(test_sequences,maxlen=max_len)\n",
    "\n",
    "\n",
    "accr = model.evaluate(test_sequences_matrix,y_test)\n",
    "print('Test set\\n  Loss: {:0.3f}\\n  Accuracy: {:0.3f}'.format(accr[0],accr[1]))\n",
    "\n"
   ]
  },
  {
   "cell_type": "code",
   "execution_count": null,
   "metadata": {},
   "outputs": [],
   "source": []
  }
 ],
 "metadata": {
  "kernelspec": {
   "display_name": "Python 3",
   "language": "python",
   "name": "python3"
  },
  "language_info": {
   "codemirror_mode": {
    "name": "ipython",
    "version": 3
   },
   "file_extension": ".py",
   "mimetype": "text/x-python",
   "name": "python",
   "nbconvert_exporter": "python",
   "pygments_lexer": "ipython3",
   "version": "3.6.6"
  }
 },
 "nbformat": 4,
 "nbformat_minor": 2
}
