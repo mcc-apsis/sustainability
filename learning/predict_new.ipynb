{
 "cells": [
  {
   "cell_type": "code",
   "execution_count": 66,
   "metadata": {
    "collapsed": false,
    "deletable": true,
    "editable": true,
    "scrolled": true
   },
   "outputs": [],
   "source": [
    "import django\n",
    "import sys, os\n",
    "import datetime\n",
    "import random\n",
    "import matplotlib.pyplot as plt\n",
    "\n",
    "sys.path.append('/home/galm/software/django/tmv/BasicBrowser/')\n",
    "os.environ.setdefault(\"DJANGO_SETTINGS_MODULE\", \"BasicBrowser.settings\")\n",
    "django.setup()\n",
    "\n",
    "from scoping.models import *\n",
    "\n",
    "import pandas as pd\n",
    "import numpy as np\n",
    "\n",
    "\n",
    "from sklearn.manifold import TSNE\n",
    "from sklearn.svm import SVC, OneClassSVM\n",
    "from sklearn.metrics import average_precision_score\n",
    "from sklearn.metrics import precision_recall_curve\n",
    "from sklearn.metrics import precision_score, recall_score, cohen_kappa_score, f1_score\n",
    "\n",
    "from sklearn.decomposition import NMF\n",
    "from sklearn.naive_bayes import MultinomialNB\n",
    "from sklearn.linear_model import SGDClassifier\n",
    "\n",
    "from sklearn.feature_extraction.text import CountVectorizer, TfidfVectorizer\n",
    "from sklearn.model_selection import KFold\n",
    "from sklearn.neural_network import MLPClassifier\n",
    "from scipy.sparse import hstack\n",
    "import datetime\n",
    "\n",
    "from learning_utils import utils"
   ]
  },
  {
   "cell_type": "code",
   "execution_count": 67,
   "metadata": {
    "collapsed": true,
    "deletable": true,
    "editable": true
   },
   "outputs": [],
   "source": [
    "q = Query.objects.get(pk=1457)"
   ]
  },
  {
   "cell_type": "code",
   "execution_count": 68,
   "metadata": {
    "collapsed": true,
    "deletable": true,
    "editable": true
   },
   "outputs": [],
   "source": [
    "columns = [\n",
    "    'id',\n",
    "    'UT_id',\n",
    "    'authors',\n",
    "    'content',\n",
    "    'first_author',\n",
    "    'title',\n",
    "    'wosarticle__de',\n",
    "    'wosarticle__wc'\n",
    "]"
   ]
  },
  {
   "cell_type": "code",
   "execution_count": 69,
   "metadata": {
    "collapsed": false,
    "deletable": true,
    "editable": true
   },
   "outputs": [
    {
     "name": "stdout",
     "output_type": "stream",
     "text": [
      "(1984, 13)\n"
     ]
    },
    {
     "data": {
      "text/html": [
       "<div>\n",
       "<style scoped>\n",
       "    .dataframe tbody tr th:only-of-type {\n",
       "        vertical-align: middle;\n",
       "    }\n",
       "\n",
       "    .dataframe tbody tr th {\n",
       "        vertical-align: top;\n",
       "    }\n",
       "\n",
       "    .dataframe thead th {\n",
       "        text-align: right;\n",
       "    }\n",
       "</style>\n",
       "<table border=\"1\" class=\"dataframe\">\n",
       "  <thead>\n",
       "    <tr style=\"text-align: right;\">\n",
       "      <th></th>\n",
       "      <th>Unnamed: 0</th>\n",
       "      <th>UT_id</th>\n",
       "      <th>authors</th>\n",
       "      <th>content</th>\n",
       "      <th>first_author</th>\n",
       "      <th>id</th>\n",
       "      <th>rated</th>\n",
       "      <th>relevant</th>\n",
       "      <th>tag</th>\n",
       "      <th>title</th>\n",
       "      <th>wosarticle__de</th>\n",
       "      <th>wosarticle__wc</th>\n",
       "      <th>date</th>\n",
       "    </tr>\n",
       "  </thead>\n",
       "  <tbody>\n",
       "    <tr>\n",
       "      <th>0</th>\n",
       "      <td>799</td>\n",
       "      <td>WOS:000287262500004</td>\n",
       "      <td>Stubelj, I, Dolenc, P</td>\n",
       "      <td>This paper tackles the question of fiscal sust...</td>\n",
       "      <td>Stubelj, I</td>\n",
       "      <td>171538</td>\n",
       "      <td>2018-09-19 15:52:45.053905+00:00</td>\n",
       "      <td>0</td>\n",
       "      <td>753</td>\n",
       "      <td>FISCAL SUSTAINABILITY OF EU MEMBER STATES IN T...</td>\n",
       "      <td>public finance; sustainability; budget balance...</td>\n",
       "      <td>['Economics']</td>\n",
       "      <td>2018-09-19 15:52:45</td>\n",
       "    </tr>\n",
       "    <tr>\n",
       "      <th>1</th>\n",
       "      <td>1102</td>\n",
       "      <td>WOS:000295803500003</td>\n",
       "      <td>Johnson, BH, Poulsen, TG, Hansen, JA, Lehmann, M</td>\n",
       "      <td>There is a strong connection between economic ...</td>\n",
       "      <td>Johnson, BH</td>\n",
       "      <td>635393</td>\n",
       "      <td>2018-09-07 08:10:25.795637+00:00</td>\n",
       "      <td>1</td>\n",
       "      <td>737</td>\n",
       "      <td>Cities as development drivers: from waste prob...</td>\n",
       "      <td>Climate change; mitigation; innovation systems...</td>\n",
       "      <td>['Engineering, Environmental; Environmental Sc...</td>\n",
       "      <td>2018-09-07 08:10:25</td>\n",
       "    </tr>\n",
       "    <tr>\n",
       "      <th>2</th>\n",
       "      <td>2524</td>\n",
       "      <td>WOS:000382709200004</td>\n",
       "      <td>Bhandari, J, Pan, XB, Zhang, LZ, Bijaya, GCD, ...</td>\n",
       "      <td>For ecological sustainability, legumes play a ...</td>\n",
       "      <td>Bhandari, J</td>\n",
       "      <td>464985</td>\n",
       "      <td>2018-09-24 04:07:31.184604+00:00</td>\n",
       "      <td>1</td>\n",
       "      <td>760</td>\n",
       "      <td>Biomass and species richness of legumes of sem...</td>\n",
       "      <td>Biomass; Inner Mongolia; Legumes; Semiarid gra...</td>\n",
       "      <td>['Agronomy']</td>\n",
       "      <td>2018-09-24 04:07:31</td>\n",
       "    </tr>\n",
       "    <tr>\n",
       "      <th>3</th>\n",
       "      <td>1753</td>\n",
       "      <td>WOS:000369388300004</td>\n",
       "      <td>Kurian, JC, Kurian, JC</td>\n",
       "      <td>Purpose - The purpose of this paper is to expl...</td>\n",
       "      <td>Kurian, JC</td>\n",
       "      <td>103496</td>\n",
       "      <td>2018-09-21 02:36:32.826474+00:00</td>\n",
       "      <td>0</td>\n",
       "      <td>753</td>\n",
       "      <td>Facebook use by the open access repository users</td>\n",
       "      <td>Social networking sites; Open access; Reposito...</td>\n",
       "      <td>['Computer Science, Information Systems; Infor...</td>\n",
       "      <td>2018-09-21 02:36:32</td>\n",
       "    </tr>\n",
       "    <tr>\n",
       "      <th>4</th>\n",
       "      <td>2214</td>\n",
       "      <td>WOS:000268802200019</td>\n",
       "      <td>de Almeida, MVR, de Oliveira, TS, Bezerra, AME</td>\n",
       "      <td>Biodiversity is important for the quality of a...</td>\n",
       "      <td>de Almeida, MVR</td>\n",
       "      <td>506301</td>\n",
       "      <td>2018-09-24 04:10:31.541097+00:00</td>\n",
       "      <td>1</td>\n",
       "      <td>760</td>\n",
       "      <td>Biodiversity in agroecological systems in Chor...</td>\n",
       "      <td>agroecology; intercropping systems; semiarid; ...</td>\n",
       "      <td>['Agronomy']</td>\n",
       "      <td>2018-09-24 04:10:31</td>\n",
       "    </tr>\n",
       "  </tbody>\n",
       "</table>\n",
       "</div>"
      ],
      "text/plain": [
       "   Unnamed: 0                UT_id  \\\n",
       "0         799  WOS:000287262500004   \n",
       "1        1102  WOS:000295803500003   \n",
       "2        2524  WOS:000382709200004   \n",
       "3        1753  WOS:000369388300004   \n",
       "4        2214  WOS:000268802200019   \n",
       "\n",
       "                                             authors  \\\n",
       "0                              Stubelj, I, Dolenc, P   \n",
       "1   Johnson, BH, Poulsen, TG, Hansen, JA, Lehmann, M   \n",
       "2  Bhandari, J, Pan, XB, Zhang, LZ, Bijaya, GCD, ...   \n",
       "3                             Kurian, JC, Kurian, JC   \n",
       "4     de Almeida, MVR, de Oliveira, TS, Bezerra, AME   \n",
       "\n",
       "                                             content     first_author      id  \\\n",
       "0  This paper tackles the question of fiscal sust...       Stubelj, I  171538   \n",
       "1  There is a strong connection between economic ...      Johnson, BH  635393   \n",
       "2  For ecological sustainability, legumes play a ...      Bhandari, J  464985   \n",
       "3  Purpose - The purpose of this paper is to expl...       Kurian, JC  103496   \n",
       "4  Biodiversity is important for the quality of a...  de Almeida, MVR  506301   \n",
       "\n",
       "                              rated  relevant  tag  \\\n",
       "0  2018-09-19 15:52:45.053905+00:00         0  753   \n",
       "1  2018-09-07 08:10:25.795637+00:00         1  737   \n",
       "2  2018-09-24 04:07:31.184604+00:00         1  760   \n",
       "3  2018-09-21 02:36:32.826474+00:00         0  753   \n",
       "4  2018-09-24 04:10:31.541097+00:00         1  760   \n",
       "\n",
       "                                               title  \\\n",
       "0  FISCAL SUSTAINABILITY OF EU MEMBER STATES IN T...   \n",
       "1  Cities as development drivers: from waste prob...   \n",
       "2  Biomass and species richness of legumes of sem...   \n",
       "3   Facebook use by the open access repository users   \n",
       "4  Biodiversity in agroecological systems in Chor...   \n",
       "\n",
       "                                      wosarticle__de  \\\n",
       "0  public finance; sustainability; budget balance...   \n",
       "1  Climate change; mitigation; innovation systems...   \n",
       "2  Biomass; Inner Mongolia; Legumes; Semiarid gra...   \n",
       "3  Social networking sites; Open access; Reposito...   \n",
       "4  agroecology; intercropping systems; semiarid; ...   \n",
       "\n",
       "                                      wosarticle__wc                date  \n",
       "0                                      ['Economics'] 2018-09-19 15:52:45  \n",
       "1  ['Engineering, Environmental; Environmental Sc... 2018-09-07 08:10:25  \n",
       "2                                       ['Agronomy'] 2018-09-24 04:07:31  \n",
       "3  ['Computer Science, Information Systems; Infor... 2018-09-21 02:36:32  \n",
       "4                                       ['Agronomy'] 2018-09-24 04:10:31  "
      ]
     },
     "execution_count": 69,
     "metadata": {},
     "output_type": "execute_result"
    }
   ],
   "source": [
    "df = pd.read_csv('docs.csv').sample(frac=1).reset_index(drop=True)\n",
    "df['date'] = df['rated'].apply(lambda x: datetime.datetime.strptime(x[:19],\"%Y-%m-%d %H:%M:%S\"))\n",
    "df = df[df['date'] > datetime.datetime(2018,6,1,0,0,0)].reset_index(drop=True)\n",
    "print(df.shape)\n",
    "y = df['relevant']\n",
    "df.head()"
   ]
  },
  {
   "cell_type": "code",
   "execution_count": 70,
   "metadata": {
    "collapsed": false,
    "deletable": true,
    "editable": true
   },
   "outputs": [],
   "source": [
    "uncoded_docs = Doc.objects.filter(query=q,content__iregex='\\w').exclude(docownership__relevant__gt=0)\n",
    "uncoded_docs_nosus = Doc.objects.filter(\n",
    "    query=q,content__iregex='\\w'\n",
    ").exclude(\n",
    "    docownership__relevant__gt=0\n",
    ").exclude(\n",
    "    wosarticle__so__icontains=\"sustainab\"\n",
    ")\n",
    "\n",
    "wos_sus = Doc.objects.filter(\n",
    "    query=q,\n",
    "    wosarticle__kwp__icontains=\"sustainab\"\n",
    ").exclude(\n",
    "    title__icontains=\"sustainab\"\n",
    ").exclude(\n",
    "    content__icontains=\"sustainab\"\n",
    ").exclude(\n",
    "    wosarticle__de=\"sustainab\"\n",
    ").values_list('pk',flat=True)\n",
    "\n",
    "t753 = Doc.objects.filter(tag__id=753).values_list('pk',flat=True)\n",
    "\n",
    "uncoded_docs_nosus = uncoded_docs_nosus.exclude(id__in=list(wos_sus)+list(t753))\n",
    "\n"
   ]
  },
  {
   "cell_type": "code",
   "execution_count": 71,
   "metadata": {
    "collapsed": false,
    "deletable": true,
    "editable": true
   },
   "outputs": [],
   "source": [
    "s_ids = random.sample(list(\n",
    "    uncoded_docs_nosus.values_list('pk',flat=True)\n",
    "),4000)\n",
    "\n",
    "new_docs = Doc.objects.filter(id__in=s_ids)\n",
    "\n",
    "unseen = list(new_docs.values(*columns))\n",
    "new_df = pd.DataFrame.from_dict(unseen)"
   ]
  },
  {
   "cell_type": "code",
   "execution_count": 72,
   "metadata": {
    "collapsed": false,
    "deletable": true,
    "editable": true
   },
   "outputs": [],
   "source": [
    "vec = TfidfVectorizer(\n",
    "    ngram_range=(1,2),\n",
    "    min_df=15, max_df=0.6, strip_accents='unicode', \n",
    "    use_idf=1,\n",
    "    smooth_idf=1, sublinear_tf=1,\n",
    "    stop_words=\"english\",tokenizer=utils.tokenize\n",
    ")\n",
    "\n",
    "ab_X = vec.fit_transform(list(df['content']) + list(new_df['content']))"
   ]
  },
  {
   "cell_type": "code",
   "execution_count": 73,
   "metadata": {
    "collapsed": false,
    "deletable": true,
    "editable": true
   },
   "outputs": [
    {
     "name": "stdout",
     "output_type": "stream",
     "text": [
      "(5984, 5381)\n",
      "(1984, 5381)\n",
      "(4000, 5381)\n"
     ]
    }
   ],
   "source": [
    "ab_X\n",
    "\n",
    "len(df.index)\n",
    "\n",
    "X_train = ab_X[list(range(len(df.index)))]\n",
    "y_train = list(df['relevant'])\n",
    "\n",
    "X_pred = ab_X[len(df.index):]\n",
    "\n",
    "print(ab_X.shape)\n",
    "print(X_train.shape)\n",
    "print(X_pred.shape)"
   ]
  },
  {
   "cell_type": "code",
   "execution_count": null,
   "metadata": {
    "collapsed": false,
    "deletable": true,
    "editable": true
   },
   "outputs": [],
   "source": []
  },
  {
   "cell_type": "code",
   "execution_count": 74,
   "metadata": {
    "collapsed": false,
    "deletable": true,
    "editable": true
   },
   "outputs": [],
   "source": [
    "clf = MultinomialNB(alpha=0.1)     \n",
    "clf.fit(X_train, y_train)\n",
    "y_pred = clf.predict_proba(X_pred)\n",
    "\n",
    "new_df['prediction'] = y_pred[:,1]"
   ]
  },
  {
   "cell_type": "code",
   "execution_count": null,
   "metadata": {
    "collapsed": false,
    "deletable": true,
    "editable": true
   },
   "outputs": [],
   "source": []
  },
  {
   "cell_type": "code",
   "execution_count": 75,
   "metadata": {
    "collapsed": false,
    "deletable": true,
    "editable": true
   },
   "outputs": [
    {
     "data": {
      "text/html": [
       "<div>\n",
       "<style scoped>\n",
       "    .dataframe tbody tr th:only-of-type {\n",
       "        vertical-align: middle;\n",
       "    }\n",
       "\n",
       "    .dataframe tbody tr th {\n",
       "        vertical-align: top;\n",
       "    }\n",
       "\n",
       "    .dataframe thead th {\n",
       "        text-align: right;\n",
       "    }\n",
       "</style>\n",
       "<table border=\"1\" class=\"dataframe\">\n",
       "  <thead>\n",
       "    <tr style=\"text-align: right;\">\n",
       "      <th></th>\n",
       "      <th>UT_id</th>\n",
       "      <th>authors</th>\n",
       "      <th>content</th>\n",
       "      <th>first_author</th>\n",
       "      <th>id</th>\n",
       "      <th>title</th>\n",
       "      <th>wosarticle__de</th>\n",
       "      <th>wosarticle__wc</th>\n",
       "      <th>prediction</th>\n",
       "    </tr>\n",
       "  </thead>\n",
       "  <tbody>\n",
       "    <tr>\n",
       "      <th>3523</th>\n",
       "      <td>WOS:000294812400001</td>\n",
       "      <td>Souza, NM, Sebaldt, RJ, Mackay, JA, Prorok, JC...</td>\n",
       "      <td>Background: Computerized clinical decision sup...</td>\n",
       "      <td>Souza, NM</td>\n",
       "      <td>189334</td>\n",
       "      <td>Computerized clinical decision support systems...</td>\n",
       "      <td>None</td>\n",
       "      <td>[Health Care Sciences &amp; Services; Health Polic...</td>\n",
       "      <td>0.000406</td>\n",
       "    </tr>\n",
       "    <tr>\n",
       "      <th>651</th>\n",
       "      <td>WOS:000284763500004</td>\n",
       "      <td>Lau, G, Wieland, B, Seifert, D, Siskind, D</td>\n",
       "      <td>Objective: This study evaluates the partnershi...</td>\n",
       "      <td>Lau, G</td>\n",
       "      <td>477624</td>\n",
       "      <td>A partnership evaluation: public mental health...</td>\n",
       "      <td>dental care; dental health services; mental di...</td>\n",
       "      <td>[Psychiatry]</td>\n",
       "      <td>0.000798</td>\n",
       "    </tr>\n",
       "    <tr>\n",
       "      <th>2342</th>\n",
       "      <td>WOS:000208325000004</td>\n",
       "      <td>Barcelo, A, Cafiero, E, de Boer, M, Mesa, AE, ...</td>\n",
       "      <td>The prevalence of diabetes in Mexico among tho...</td>\n",
       "      <td>Barcelo, A</td>\n",
       "      <td>320049</td>\n",
       "      <td>Using collaborative learning to improve diabet...</td>\n",
       "      <td>Diabetes care; Quality improvement</td>\n",
       "      <td>[Endocrinology &amp; Metabolism; Primary Health Care]</td>\n",
       "      <td>0.000827</td>\n",
       "    </tr>\n",
       "    <tr>\n",
       "      <th>1572</th>\n",
       "      <td>WOS:000275983200017</td>\n",
       "      <td>Foody, JM, Villablanca, AC, Giardina, EGV, Gil...</td>\n",
       "      <td>Aims: Improving, Enhancing and Evaluating Outc...</td>\n",
       "      <td>Foody, JM</td>\n",
       "      <td>745692</td>\n",
       "      <td>The Office on Women's Health Initiative to Imp...</td>\n",
       "      <td>None</td>\n",
       "      <td>[Public, Environmental &amp; Occupational Health; ...</td>\n",
       "      <td>0.000873</td>\n",
       "    </tr>\n",
       "    <tr>\n",
       "      <th>378</th>\n",
       "      <td>WOS:000372370800012</td>\n",
       "      <td>White, DAE, Anderson, ES, Pfeil, SK, Graffman,...</td>\n",
       "      <td>Introduction: Nontargeted human immunodeficien...</td>\n",
       "      <td>White, DAE</td>\n",
       "      <td>174898</td>\n",
       "      <td>DIFFERENCES BETWEEN EMERGENCY NURSE PERCEPTION...</td>\n",
       "      <td>Hepatitis C virus screening; HIV screening; Em...</td>\n",
       "      <td>[Emergency Medicine; Nursing]</td>\n",
       "      <td>0.001317</td>\n",
       "    </tr>\n",
       "  </tbody>\n",
       "</table>\n",
       "</div>"
      ],
      "text/plain": [
       "                    UT_id                                            authors  \\\n",
       "3523  WOS:000294812400001  Souza, NM, Sebaldt, RJ, Mackay, JA, Prorok, JC...   \n",
       "651   WOS:000284763500004         Lau, G, Wieland, B, Seifert, D, Siskind, D   \n",
       "2342  WOS:000208325000004  Barcelo, A, Cafiero, E, de Boer, M, Mesa, AE, ...   \n",
       "1572  WOS:000275983200017  Foody, JM, Villablanca, AC, Giardina, EGV, Gil...   \n",
       "378   WOS:000372370800012  White, DAE, Anderson, ES, Pfeil, SK, Graffman,...   \n",
       "\n",
       "                                                content first_author      id  \\\n",
       "3523  Background: Computerized clinical decision sup...    Souza, NM  189334   \n",
       "651   Objective: This study evaluates the partnershi...       Lau, G  477624   \n",
       "2342  The prevalence of diabetes in Mexico among tho...   Barcelo, A  320049   \n",
       "1572  Aims: Improving, Enhancing and Evaluating Outc...    Foody, JM  745692   \n",
       "378   Introduction: Nontargeted human immunodeficien...   White, DAE  174898   \n",
       "\n",
       "                                                  title  \\\n",
       "3523  Computerized clinical decision support systems...   \n",
       "651   A partnership evaluation: public mental health...   \n",
       "2342  Using collaborative learning to improve diabet...   \n",
       "1572  The Office on Women's Health Initiative to Imp...   \n",
       "378   DIFFERENCES BETWEEN EMERGENCY NURSE PERCEPTION...   \n",
       "\n",
       "                                         wosarticle__de  \\\n",
       "3523                                               None   \n",
       "651   dental care; dental health services; mental di...   \n",
       "2342                 Diabetes care; Quality improvement   \n",
       "1572                                               None   \n",
       "378   Hepatitis C virus screening; HIV screening; Em...   \n",
       "\n",
       "                                         wosarticle__wc  prediction  \n",
       "3523  [Health Care Sciences & Services; Health Polic...    0.000406  \n",
       "651                                        [Psychiatry]    0.000798  \n",
       "2342  [Endocrinology & Metabolism; Primary Health Care]    0.000827  \n",
       "1572  [Public, Environmental & Occupational Health; ...    0.000873  \n",
       "378                       [Emergency Medicine; Nursing]    0.001317  "
      ]
     },
     "execution_count": 75,
     "metadata": {},
     "output_type": "execute_result"
    }
   ],
   "source": [
    "new_df.sort_values('prediction').head()"
   ]
  },
  {
   "cell_type": "code",
   "execution_count": 76,
   "metadata": {
    "collapsed": false,
    "deletable": true,
    "editable": true
   },
   "outputs": [
    {
     "name": "stdout",
     "output_type": "stream",
     "text": [
      "Land demand for ethanol production\n",
      "predicted: 1.0\n",
      "Several key indicators of the sustainability of biofuels are related to the land used to produce the feedstock. Most of the agronomic costs and energy use (fertilizers, herbicides, soil preparation, and harvesting) are more related to the cropped area than to the feedstock quantity produced; this is also the case of soil greenhouse gas (GHG) emissions (CO2 and N2O) and land use change (LUC) impacts, both direct (dLUC) and indirect (iLUC), socio-economic impacts (land tenure, land prices and traditional crop displacement), impacts on biodiversity and on the environment (soil, water and air). Today, biofuels use only a little more than 2% of the world arable land but if their use to displace fossil fuels increases, as indicated by some low carbon scenarios, the land demand for the production of feedstocks could become a constraint to the expansion. It is quite apparent that the biofuel yields, present and future, should be one of the main characteristics to be evaluated in the initial screening process. This work uses the cases of corn and sugarcane ethanol to draw some comparisons on the use of these biofuels to meet the targets of some of the International Energy Agency (IEA) biofuel use scenarios in terms of land demand and also will use some of the most important study results concerning the GHG emission reduction potential, including LUC and iLUC impacts, when meeting the Renewable Energy Directive (RED) of the European Union (EU) and the Renewable Fuel Standard (RFS2) of the USA. Some technology improvements will be considered including the integration of first and second generation technologies in the same site processing corn or sugarcane for ethanol. The results of the simulations indicated that the land demands for the 2030 projected ethanol production in the two alternatives seems not to give reasons for concern on a global scale, but are large enough to produce significant local impacts. The GHG abatement potential is strongly dependent on the biofuel alternative considered. (c) 2012 Elsevier Ltd. All rights reserved.\n",
      "Trade-offs between land and water requirements for large-scale bioenergy production\n",
      "predicted: 1.0\n",
      "Bioenergy is expected to play an important role in the future energy mix as it can substitute fossil fuels and contribute to climate change mitigation. However, large-scale bioenergy cultivation may put substantial pressure on land and water resources. While irrigated bioenergy production can reduce the pressure on land due to higher yields, associated irrigation water requirements may lead to degradation of freshwater ecosystems and to conflicts with other potential users. In this article, we investigate the trade-offs between land and water requirements of large-scale bioenergy production. To this end, we adopt an exogenous demand trajectory for bioenergy from dedicated energy crops, targeted at limiting greenhouse gas emissions in the energy sector to 1100 Gt carbon dioxide equivalent until 2095. We then use the spatially explicit global land- and water-use allocation model MAgPIE to project the implications of this bioenergy target for global land and water resources. We find that producing 300 EJ yr(-1) of bioenergy in 2095 from dedicated bioenergy crops is likely to double agricultural water withdrawals if no explicit water protection policies are implemented. Since current human water withdrawals are dominated by agriculture and already lead to ecosystem degradation and biodiversity loss, such a doubling will pose a severe threat to freshwater ecosystems. If irrigated bioenergy production is prohibited to prevent negative impacts of bioenergy cultivation on water resources, bioenergy land requirements for meeting a 300 EJ yr(-1) bioenergy target increase substantially (+ 41%) - mainly at the expense of pasture areas and tropical forests. Thus, avoiding negative environmental impacts of large-scale bioenergy production will require policies that balance associated water and land requirements.\n",
      "Heavy metal content in ash of energy crops growing in sewage-contaminated natural wetlands: Potential applications in agriculture and forestry?\n",
      "predicted: 1.0\n",
      "One of the greatest current challenges is to find cost-effective and eco-friendly solutions to the ever increasing needs of modern society. Some plant species are suitable for a multitude of biotechnological applications such as bioenergy production and phytoremediation. A sustainable practice is to use energy crops to clean up polluted lands or to treat wastewater in constructed wetlands without claiming further arable land for biofuel production. However, the disposal of combustion by-products may add significant costs to the whole process, especially when it deals with toxic waste. This study aimed to investigate the possibility of recycling ash from energy biomass as a fertilizer for agriculture and forestry. In particular, the concentrations of Cd, Cr, Cu, Mn, Pb and Zn were analyzed in the plant tissues and corresponding ash of the grasses Phragmites australis and Arundo donax, collected in an urban stream affected by domestic sewage. Results showed that the metal concentration in ash is 1.5-3 times as high as the values in plant tissues. However, metal enriched ash showed much lower element concentrations than the legal limits for ash reutilization in agriculture and forestry. This study found that biomass ash from constructed wetlands may be considered as a potential fertilizer rather than hazardous waste. Energy from biomass can be a really sustainable and clean option not only through the reduction of greenhouse gas emissions, but also through ash recycling for beneficial purposes, thus minimizing the negative impacts of disposal. (C) 2013 Elsevier B.V. All rights reserved.\n",
      "CARBON SEQUESTRATION, BIOLOGICAL DIVERSITY, AND SUSTAINABLE DEVELOPMENT - INTEGRATED FOREST MANAGEMENT\n",
      "predicted: 1.0\n",
      "Tropical deforestation provides a significant contribution to anthropogenic increases in atmospheric CO2 concentration that may lead to global warming. Forestation and other forest management options to sequester CO2 in the tropical latitudes may fail unless they address local economic, social, environmental, and political needs of people in the developing world. Forest management is discussed in terms of three objectives: carbon sequestration, sustainable development, and biodiversity conservation. An integrated forest management strategy of land-use planning is proposed to achieve these objectives and is centered around: preservation of primary forest, intensified use of nontimber resources, agroforestry, and selective use of plantation forestry.\n",
      "Long-term dynamics in land resource use and the driving forces in the Beressa watershed, highlands of Ethiopia\n",
      "predicted: 1.0\n",
      "Land degradation in the Ethiopian highlands is considered to be one of the major problems threatening agricultural development and food security in the country. However, knowledge about the forces driving the long-term dynamics in land resources use is limited. This research integrates biophysical information with socio-economic processes and policy changes to examine the dynamics of land resource use and farmers' livelihoods in the Beressa watershed for over 40 years during the second half of the 20th century. It was found that there have been substantial dynamics in land resource use in the area. The natural vegetation cover has been extensively cleared, although most of the cleared areas have since been replaced with plantations. Grazing land has expanded remarkably at the expense of cropland and bare land. However, the expansion of cropland was minimal over the 43-year period despite a quadrupling of the population density. Yields have not increased to compensate for the reduction in per capita cropland, and the soil quality appears to be not that good. Though the farmers perceived it otherwise, the long-term rainfall pattern has improved. In response to soil degradation, water shortage, socio-economic and policy changes, farmers have tended to gradually change from annual cropping to tree planting and livestock production to cope with the problems of soil degradation, water scarcity and smaller farms. Income diversification through the sale of wood and cattle dung is becoming a major livelihood strategy. Apparently, however, little attention has been paid to investments in soil and water conservation (SWC) and local soil fertility amendments. In particular, increased erosion and related high nutrient losses in sediments, as well as the removal of potentially available soil nutrients through the sale of manure threatens to damage agricultural sustainability in the area. (C) 2006 Elsevier Ltd. All rights reserved.\n"
     ]
    }
   ],
   "source": [
    "for i, row in new_df.sort_values('prediction',ascending=False).head(5).iterrows():\n",
    "    print(row['title'])\n",
    "    print(\"predicted: {:.2}\".format(row['prediction']))\n",
    "    print(row['content'])"
   ]
  },
  {
   "cell_type": "code",
   "execution_count": 62,
   "metadata": {
    "collapsed": false,
    "deletable": true,
    "editable": true
   },
   "outputs": [
    {
     "name": "stdout",
     "output_type": "stream",
     "text": [
      "Implementation of a routine HIV testing policy in an acute medical setting in a UK general hospital: a cross-sectional study\n",
      "predicted: 0.00016\n",
      "Objectives To report the implementation and outcomes of a routine opt-out HIV testing policy in an acute medical unit (AMU) of a district general hospital in an area of high diagnosed HIV prevalence. Methods Since July 2011, all patients aged 16-79 years attending AMU were offered an HIV test as a hospital policy. Consenting and arranging the test was carried out by general medical staff, with training and motivational support by local HIV specialists. A retrospective cross-sectional review was conducted: testing rate and outcomes of those testing HIV seropositive were determined by review of hospital data systems and case notes. Results Over a 21-month period, there were 12 682 admissions; 4122 (32.5%) had HIV tests. 20 patients (0.48%) were diagnosed with HIV; 17 (85%) of them were new diagnoses. Compared with those patients targeted as a result of clinical suspicion of HIV (n=6), patients who were diagnosed solely due to the scheme (n=14) had higher baseline CD4 counts (median 111 vs 313 cells/mm(3); p=0.01). Two patients had renal disease which improved on antiretroviral therapy. Two long-term defaulters to HIV care with very advanced disease have re-engaged resulting in excellent clinical outcomes. 11 patients are now on treatment with undetectable HIV viral loads. One contact tested HIV positive. Conclusions Our experience shows that routine opt-out testing can be delivered and sustained by general medical staff in an AMU with no money spent other than laboratory processing of the test. We believe that success and sustainability of this policy is due to the high level of commitment from and ownership by the AMU staff, particularly nurses. Ongoing support and motivation from the HIV team has facilitated the delivery of this policy.\n",
      "Improved delivery of cardiovascular care (IDOCC) through outreach facilitation: study protocol and implementation details of a cluster randomized controlled trial in primary care\n",
      "predicted: 0.00067\n",
      "Background: There is a need to find innovative approaches for translating best practices for chronic disease care into daily primary care practice routines. Primary care plays a crucial role in the prevention and management of cardiovascular disease. There is, however, a substantive care gap, and many challenges exist in implementing evidence-based care. The Improved Delivery of Cardiovascular Care (IDOCC) project is a pragmatic trial designed to improve the delivery of evidence-based care for the prevention and management of cardiovascular disease in primary care practices using practice outreach facilitation. Methods: The IDOCC project is a stepped-wedge cluster randomized control trial in which Practice Outreach Facilitators work with primary care practices to improve cardiovascular disease prevention and management for patients at highest risk. Primary care practices in a large health region in Eastern Ontario, Canada, were eligible to participate. The intervention consists of regular monthly meetings with the Practice Outreach Facilitator over a one-to two-year period. Starting with audit and feedback, consensus building, and goal setting, the practices are supported in changing practice behavior by incorporating chronic care model elements. These elements include (a) evidence-based decision support for providers, (b) delivery system redesign for practices, (c) enhanced self-management support tools provided to practices to help them engage patients, and (d) increased community resource linkages for practices to enhance referral of patients. The primary outcome is a composite score measured at the level of the patient to represent each practice's adherence to evidence-based guidelines for cardiovascular care. Qualitative analysis of the Practice Outreach Facilitators' written narratives of their ongoing practice interactions will be done. These textual analyses will add further insight into understanding critical factors impacting project implementation. Discussion: This pragmatic, stepped-wedge randomized controlled trial with both quantitative and process evaluations demonstrates innovative methods of implementing large-scale quality improvement and evidence-based approaches to care delivery. This is the first Canadian study to examine the impact of a large-scale multifaceted cardiovascular quality-improvement program in primary care. It is anticipated that through the evaluation of IDOCC, we will demonstrate an effective, practical, and sustainable means of improving the cardiovascular health of patients across Canada.\n",
      "Group music therapy for patients with persistent post-traumatic stress disorder - an exploratory randomized controlled trial with mixed methods evaluation\n",
      "predicted: 0.00095\n",
      "Objectives. Not all patients with post-traumatic stress disorder (PTSD) respond to cognitive behavioural therapy (CBT). Literature suggests group music therapy might be beneficial in treating PTSD. However, feasibility and effectiveness have not been assessed. The study objectives were to assess whether group music therapy was feasible for patients who did not respond to CBT, and whether it has an effect on PTSD symptoms and depression. Design. The study employed mixed methods comprising of an exploratory randomized controlled trial, qualitative content analysis of therapy, and patient interviews. Method. Patients with significant PTSD symptoms (n= 17) following completion of CBT were randomly assigned to treatment (n= 9) or control groups (n= 8). The treatment group received 10 weeks of group music therapy after which exit interviews were conducted. Control group patients were offered the intervention at the end of the study. Symptoms were assessed on the Impact of Events Scale-Revised and Beck Depression Inventory II at the beginning and end of treatment. Results. Treatment-group patients experienced a significant reduction in severity of PTSD symptoms (-20.18; 95% confidence interval [CI]: [-31.23, -9.12]) and a marginally significant reduction in depression (-11.92; 95%CI: [-24.05, 0.21]) at 10 weeks from baseline compared to the control. Patients viewed music therapy as helpful and reported experiences concur with current literature. Conclusions. Group music therapy appears feasible and effective for PTSD patients who have not sufficiently responded to CBT. Limitations include the small sample size and lack of blinding. Further research should address these limitations, test sustainability, and identify specific factors that address symptoms in treatment.\n",
      "A partnership evaluation: public mental health and dental services\n",
      "predicted: 0.001\n",
      "Objective: This study evaluates the partnership between a mental health service and a public dental hospital in providing timely and efficient access to dentistry to patients with a mental illness. In addition, the factors that contributed to the sustainability of the partnership were examined. Method: The partnership was appraised using a survey-based evaluation with 20 patients, 43 community mental health staff and 14 dental staff, and focus groups with mental health and dental staff. Results: The partnership between the services is the key element to the success of improving access to dental services for patients. Overall feedback received from mental health staff highlighted the importance of the partnership and its role in meeting the oral health needs of patients. Generally, patients were satisfied with the treatment they received and valued the dental service. Results highlighted an ongoing problem of poor dietary and lifestyle choices. Dental staff felt that mental health patients were less likely to take care of their teeth and were more likely to cancel appointments. Dental staff also acknowledged frustration with patients with a mental illness not attending appointments or following through with a recommended course of treatment. Conclusions: The partnership with the local dental hospital has created a sustainable way to ensure improved dental health outcomes for patients of mental health services. This partnership has led to increased access to dental services and improved follow-up.\n",
      "Adjuvant therapy with minocycline for schizophrenia (The MINOS Trial): study protocol for a double-blind randomized placebo-controlled trial\n",
      "predicted: 0.001\n",
      "Background: Schizophrenia is understood to be a heterogeneous brain condition with overlapping symptom dimensions. The negative symptom dimension, with its protean cognitive manifestations, responds poorly to treatment, which can be a particular challenge in countries where clozapine therapy is not available. Preliminary data indicate that minocycline may be beneficial adjunct in the treatment of schizophrenia: positive, negative, and cognitive symptoms. In this study we aim to assess the efficacy of adjunctive minocycline to alleviate symptoms of schizophrenia in patients who have failed to respond to a therapeutic trial of antipsychotic medications. Methods: The study is a parallel group, double-blind, randomized, placebo-controlled trial. Participants will be adults (aged 18 years and above) with first episode or relapse episode of schizophrenia of under 5 years' duration. Patients who failed to show adequate therapeutic response to at least one antipsychotic medication given for a minimum of 4 weeks will be recruited from a psychiatry hospital in Addis Ababa and a psychiatry clinic in Butajira, Ethiopia. A total of 150 participants (75 in each arm) will be required to detect a five-point mean difference between the intervention arms adjusting for baseline symptom severity, at 90% power and 95% confidence. Patients in the intervention arm will receive minocycline (200 mg/day orally) added on to the regular antipsychotic medications participants are already on. Those in the placebo arm will receive an inactive compound identical in physical appearance to minocycline. Intervention will be offered for 12 weeks. Diagnosis will be established using the operational criteria for research (OPCRIT). Primary outcome measure will be a change in symptom severity measured using the positive and the negative syndrome scale for schizophrenia (PANSS). Secondary outcome measures will include changes in severity of negative symptoms, proportion achieving remission, and level of functioning. Whether changes are maintained post intervention will also be measured (PANSS). Key assessment for the primary outcome will be conducted at the end of trial (week 12). One post-intervention assessment will be conducted 4 weeks after the end of intervention (week 16) to determine sustainability of change.\n"
     ]
    }
   ],
   "source": [
    "for i, row in new_df.sort_values('prediction').head(5).iterrows():\n",
    "    print(row['title'])\n",
    "    print(\"predicted: {:.2}\".format(row['prediction']))\n",
    "    print(row['content'])"
   ]
  },
  {
   "cell_type": "code",
   "execution_count": 77,
   "metadata": {
    "collapsed": false,
    "deletable": true,
    "editable": true
   },
   "outputs": [
    {
     "data": {
      "text/plain": [
       "[<matplotlib.lines.Line2D at 0x7f6797a174a8>]"
      ]
     },
     "execution_count": 77,
     "metadata": {},
     "output_type": "execute_result"
    },
    {
     "data": {
      "image/png": "[encoded data removed]",
      "text/plain": [
       "<matplotlib.figure.Figure at 0x7f679a19ffd0>"
      ]
     },
     "metadata": {},
     "output_type": "display_data"
    }
   ],
   "source": [
    "pdf = new_df.sort_values('prediction').reset_index(drop=True)\n",
    "plt.plot(pdf.index,pdf['prediction'])"
   ]
  },
  {
   "cell_type": "code",
   "execution_count": 78,
   "metadata": {
    "collapsed": false
   },
   "outputs": [
    {
     "data": {
      "text/plain": [
       "[<matplotlib.lines.Line2D at 0x7f6798ba46a0>]"
      ]
     },
     "execution_count": 78,
     "metadata": {},
     "output_type": "execute_result"
    },
    {
     "data": {
      "image/png": "[encoded data removed]",
      "text/plain": [
       "<matplotlib.figure.Figure at 0x7f679bc42828>"
      ]
     },
     "metadata": {},
     "output_type": "display_data"
    }
   ],
   "source": [
    "uncertain = new_df[\n",
    "    (new_df['prediction'] > 0.25) & (new_df['prediction'] < 0.75)\n",
    "].sort_values('prediction').reset_index(drop=True)\n",
    "\n",
    "plt.plot(uncertain.index,uncertain['prediction'])"
   ]
  },
  {
   "cell_type": "code",
   "execution_count": 79,
   "metadata": {
    "collapsed": false,
    "deletable": true,
    "editable": true
   },
   "outputs": [],
   "source": [
    "now = datetime.datetime.now().strftime(\"%Y-%m-%d %H:%M\")\n",
    "tag = Tag(\n",
    "    title=\"predicted irrelevant sample {}\".format(now),\n",
    "    query=q\n",
    ")\n",
    "tag.save()\n",
    "uc = q.users.count()\n",
    "for i, row in uncertain.iterrows():#.sort_values('prediction').head(500).iterrows():\n",
    "    d = Doc.objects.get(UT__UT=row['UT_id'])\n",
    "    u = q.users.all()[i % uc]\n",
    "    do = DocOwnership(\n",
    "        doc=d,\n",
    "        user=u,\n",
    "        query=q,\n",
    "        tag=tag\n",
    "    )\n",
    "    do.save()"
   ]
  },
  {
   "cell_type": "code",
   "execution_count": 29,
   "metadata": {
    "collapsed": false,
    "deletable": true,
    "editable": true
   },
   "outputs": [],
   "source": [
    "new_df.to_csv(f'predicted_docs{now}.csv')"
   ]
  }
 ],
 "metadata": {
  "kernelspec": {
   "display_name": "tmvenv_36",
   "language": "python",
   "name": "tmvenv_36"
  },
  "language_info": {
   "codemirror_mode": {
    "name": "ipython",
    "version": 3
   },
   "file_extension": ".py",
   "mimetype": "text/x-python",
   "name": "python",
   "nbconvert_exporter": "python",
   "pygments_lexer": "ipython3",
   "version": "3.6.6"
  }
 },
 "nbformat": 4,
 "nbformat_minor": 2
}
